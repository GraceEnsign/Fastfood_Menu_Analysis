{
 "cells": [
  {
   "cell_type": "code",
   "execution_count": 2,
   "id": "12a4826e",
   "metadata": {},
   "outputs": [],
   "source": [
    "import matplotlib as plt\n",
    "import pandas as pd\n",
    "import numpy as np"
   ]
  },
  {
   "cell_type": "code",
   "execution_count": 3,
   "id": "a19b2b4e",
   "metadata": {},
   "outputs": [],
   "source": [
    "#Read in data\n",
    "McDonalds_Menu = pd.read_csv('Data_Sets\\McDonalds_Menu.csv')\n",
    "BurgerKing_Menu = pd.read_csv('Data_Sets\\BurgerKing_Menu.csv')\n",
    "TacoBell_Menu = pd.read_csv('Data_Sets\\TacoBell_Menu.csv')\n",
    "Wendys_Menu = pd.read_csv('Data_Sets\\Wendys_Menu.csv')\n",
    "PaneraBread_Menu = pd.read_csv('Data_Sets\\PaneraBread_Menu.csv')"
   ]
  },
  {
   "cell_type": "code",
   "execution_count": 4,
   "id": "da9d2dab",
   "metadata": {},
   "outputs": [],
   "source": [
    "#Full menu calories\n",
    "McDonalds_Calories = McDonalds_Menu['Calories']\n",
    "BK2 = BurgerKing_Menu['Calories']\n",
    "TB2 = TacoBell_Menu['Calories']\n",
    "W2 = Wendys_Menu['Calories']\n",
    "PB2 = PaneraBread_Menu['Calories']"
   ]
  },
  {
   "cell_type": "code",
   "execution_count": 5,
   "id": "ccbfc474",
   "metadata": {},
   "outputs": [],
   "source": [
    "#Drop NaN values\n",
    "BurgerKing_Calories = BK2.dropna()\n",
    "TacoBell_Calories = TB2.dropna()\n",
    "Wendys_Calories = W2.dropna()\n",
    "PaneraBread_Calories = PB2.dropna()"
   ]
  },
  {
   "cell_type": "code",
   "execution_count": 6,
   "id": "b2a09d4c",
   "metadata": {
    "scrolled": true
   },
   "outputs": [],
   "source": [
    "#Without Drinks\n",
    "McD_NoDrinks = McDonalds_Calories[0:110]\n",
    "\n",
    "BK_NoDrinks1 = BurgerKing_Calories[0:61]\n",
    "BK_NoDrinks2 = BurgerKing_Calories[64:108]\n",
    "BK_NoDrinks = [*BK_NoDrinks1, *BK_NoDrinks2]\n",
    "\n",
    "TB_NoDrinks1 = TacoBell_Calories[0:70]\n",
    "TB_NoDrinks2 = TacoBell_Calories[92:149]\n",
    "TB_NoDrinks = [*TB_NoDrinks1, *TB_NoDrinks2]\n",
    "\n",
    "W_NoDrinks1 = Wendys_Calories[19:38]\n",
    "W_NoDrinks2 = Wendys_Calories[47:140]\n",
    "W_NoDrinks = [*W_NoDrinks1, *W_NoDrinks2]\n",
    "\n",
    "PB_NoDrinks1 = PaneraBread_Calories[0:75]\n",
    "PB_NoDrinks2 = PaneraBread_Calories[302:457]\n",
    "PB_NoDrinks = [*PB_NoDrinks1, *PB_NoDrinks2]"
   ]
  },
  {
   "cell_type": "code",
   "execution_count": 7,
   "id": "51f40e42",
   "metadata": {},
   "outputs": [],
   "source": [
    "#No Catering\n",
    "PB_NoC = PB_NoDrinks[0:500]"
   ]
  },
  {
   "cell_type": "code",
   "execution_count": 31,
   "id": "ee1d9daa",
   "metadata": {},
   "outputs": [
    {
     "name": "stdout",
     "output_type": "stream",
     "text": [
      "The total number of items on McDonalds' menu is 260\n",
      "110 of the items are food\n",
      "150 are beverages/shakes\n",
      "The total number of items on Burgers King's menu is 179\n",
      "105 of the items are food\n",
      "74 are beverages/shakes\n",
      "The total number of items on Taco Bell's menu is 437\n",
      "127 of the items are food\n",
      "310 are beverages/shakes\n",
      "The total number of items on Wendy's menu is 140\n",
      "112 of the items are food\n",
      "28 are beverages/shakes\n",
      "The total number of items on Panera Bread's menu is 538\n",
      "230 of the items are food\n",
      "308 are beverages/shakes\n"
     ]
    }
   ],
   "source": [
    "#How many items in each menu?\n",
    "def McD_Total():\n",
    "    print(\"The total number of items on McDonalds' menu is\", len(McDonalds_Calories))\n",
    "def McD_Total2():\n",
    "    print((len(McD_NoDrinks)), \"of the items are food\")\n",
    "def McD_Total3():\n",
    "    print((len(McDonalds_Calories)-len(McD_NoDrinks)), \"are beverages/shakes\")\n",
    "def BK_Total():\n",
    "    print(\"The total number of items on Burgers King's menu is\", len(BurgerKing_Calories))\n",
    "def BK_Total2():\n",
    "    print((len(BK_NoDrinks)), \"of the items are food\")\n",
    "def BK_Total3():\n",
    "    print((len(BurgerKing_Calories)-len(BK_NoDrinks)), \"are beverages/shakes\")\n",
    "def TB_Total():\n",
    "    print(\"The total number of items on Taco Bell's menu is\", len(TacoBell_Calories))\n",
    "def TB_Total2():\n",
    "    print((len(TB_NoDrinks)), \"of the items are food\")\n",
    "def TB_Total3():\n",
    "    print((len(TacoBell_Calories)-len(TB_NoDrinks)), \"are beverages/shakes\")\n",
    "def W_Total():\n",
    "    print(\"The total number of items on Wendy's menu is\", len(Wendys_Calories))\n",
    "def W_Total2():\n",
    "    print((len(W_NoDrinks)), \"of the items are food\")\n",
    "def W_Total3():\n",
    "    print((len(Wendys_Calories)-len(W_NoDrinks)), \"are beverages/shakes\")\n",
    "def PB_Total():\n",
    "    print(\"The total number of items on Panera Bread's menu is\", len(PaneraBread_Calories))\n",
    "def PB_Total2():\n",
    "    print((len(PB_NoDrinks)), \"of the items are food\")\n",
    "def PB_Total3():\n",
    "    print((len(PaneraBread_Calories)-len(PB_NoDrinks)), \"are beverages/shakes\")\n",
    "\n",
    "McD_Total()\n",
    "McD_Total2()\n",
    "McD_Total3()\n",
    "\n",
    "BK_Total()\n",
    "BK_Total2()\n",
    "BK_Total3()\n",
    "\n",
    "TB_Total()\n",
    "TB_Total2()\n",
    "TB_Total3()\n",
    "\n",
    "W_Total()\n",
    "W_Total2()\n",
    "W_Total3()\n",
    "\n",
    "PB_Total()\n",
    "PB_Total2()\n",
    "PB_Total3()"
   ]
  },
  {
   "cell_type": "code",
   "execution_count": 43,
   "id": "16f93cd9",
   "metadata": {},
   "outputs": [
    {
     "name": "stdout",
     "output_type": "stream",
     "text": [
      "Average calories of McDonalds' menu is 368.27\n",
      "Average calories of Burger King's menu is 361.82\n",
      "Average calories of Taco Bell's menu is 230.39\n",
      "Average calories of Wendy's menu is 252.93\n",
      "Average calories of Panera Bread's menu is 402.28\n"
     ]
    }
   ],
   "source": [
    "#Average calories in each food item\n",
    "def average(menu):\n",
    "    avg = sum(menu)/len(menu)\n",
    "    return avg\n",
    "\n",
    "print(\"Average calories of McDonalds' menu is\", round(average(McDonalds_Calories),2))\n",
    "print(\"Average calories of Burger King's menu is\", round(average(BurgerKing_Calories),2))\n",
    "print(\"Average calories of Taco Bell's menu is\", round(average(TacoBell_Calories),2))\n",
    "print(\"Average calories of Wendy's menu is\", round(average(Wendys_Calories),2))\n",
    "print(\"Average calories of Panera Bread's menu is\", round(average(PaneraBread_Calories),2))"
   ]
  },
  {
   "cell_type": "code",
   "execution_count": 56,
   "id": "e8eff1da",
   "metadata": {},
   "outputs": [
    {
     "name": "stdout",
     "output_type": "stream",
     "text": [
      "The item with the most calories on McDonalds menu is 1880\n"
     ]
    }
   ],
   "source": [
    "max_mcd = max(McDonalds_Calories)\n",
    "max_bk = max(BurgerKing_Calories)\n",
    "max_tb = max(TacoBell_Calories)\n",
    "max_w = max(Wendys_Calories)\n",
    "max_pb = max(PaneraBread_Calories)\n",
    "\n",
    "print(\"The item with the most calories on McDonalds menu is\", max_mcd)"
   ]
  }
 ],
 "metadata": {
  "kernelspec": {
   "display_name": "Python 3 (ipykernel)",
   "language": "python",
   "name": "python3"
  },
  "language_info": {
   "codemirror_mode": {
    "name": "ipython",
    "version": 3
   },
   "file_extension": ".py",
   "mimetype": "text/x-python",
   "name": "python",
   "nbconvert_exporter": "python",
   "pygments_lexer": "ipython3",
   "version": "3.9.7"
  },
  "vscode": {
   "interpreter": {
    "hash": "87ae2aaed6170a3d35ef6f73590cb799329ab5be2267d61d0b68ab721475db9a"
   }
  }
 },
 "nbformat": 4,
 "nbformat_minor": 5
}
