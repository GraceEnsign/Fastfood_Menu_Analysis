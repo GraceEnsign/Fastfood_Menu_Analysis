{
 "cells": [
  {
   "cell_type": "code",
   "execution_count": 51,
   "id": "12a4826e",
   "metadata": {},
   "outputs": [],
   "source": [
    "import matplotlib as plt\n",
    "import pandas as pd\n",
    "import numpy as np"
   ]
  },
  {
   "cell_type": "code",
   "execution_count": 89,
   "id": "a19b2b4e",
   "metadata": {},
   "outputs": [],
   "source": [
    "#Read in data\n",
    "McDonalds_Menu = pd.read_csv('Data_Sets\\McDonalds_Menu.csv')\n",
    "BKM = pd.read_csv('Data_Sets\\BurgerKing_Menu.csv')\n",
    "TBM = pd.read_csv('Data_Sets\\TacoBell_Menu.csv')\n",
    "WM = pd.read_csv('Data_Sets\\Wendys_Menu.csv')\n",
    "PBM = pd.read_csv('Data_Sets\\PaneraBread_Menu.csv')"
   ]
  },
  {
   "cell_type": "code",
   "execution_count": 90,
   "id": "c1a1aba0",
   "metadata": {},
   "outputs": [],
   "source": [
    "#Drop NaN values\n",
    "BurgerKing_Menu = BKM.dropna()\n",
    "TacoBell_Menu = TBM.dropna()\n",
    "Wendys_Menu = WM.dropna()\n",
    "PaneraBread_Menu = PBM.dropna()"
   ]
  },
  {
   "cell_type": "code",
   "execution_count": 91,
   "id": "da9d2dab",
   "metadata": {},
   "outputs": [],
   "source": [
    "#Full menu calories\n",
    "McDonalds_Calories = McDonalds_Menu['Calories']\n",
    "BurgerKing_Calories = BurgerKing_Menu['Calories']\n",
    "TacoBell_Calories = TacoBell_Menu['Calories']\n",
    "Wendys_Calories = Wendys_Menu['Calories']\n",
    "PaneraBread_Calories = PaneraBread_Menu['Calories']"
   ]
  },
  {
   "cell_type": "code",
   "execution_count": 112,
   "id": "b2a09d4c",
   "metadata": {
    "scrolled": true
   },
   "outputs": [],
   "source": [
    "#Without Drinks\n",
    "McD_NoDrinks = McDonalds_Calories[0:110]\n",
    "\n",
    "BK_NoDrinks1 = BurgerKing_Calories[0:61]\n",
    "BK_NoDrinks2 = BurgerKing_Calories[64:108]\n",
    "BK_NoDrinks = [*BK_NoDrinks1, *BK_NoDrinks2]\n",
    "\n",
    "TB_NoDrinks1 = TacoBell_Calories[0:70]\n",
    "TB_NoDrinks2 = TacoBell_Calories[92:149]\n",
    "TB_NoDrinks = [*TB_NoDrinks1, *TB_NoDrinks2]\n",
    "\n",
    "W_NoDrinks1 = Wendys_Calories[19:38]\n",
    "W_NoDrinks2 = Wendys_Calories[47:140]\n",
    "W_NoDrinks = [*W_NoDrinks1, *W_NoDrinks2]\n",
    "\n",
    "PB_NoDrinks1 = PaneraBread_Calories[0:74]\n",
    "PB_NoDrinks2 = PaneraBread_Calories[300:550]\n",
    "PB_NoDrinks = [*PB_NoDrinks1, *PB_NoDrinks2]"
   ]
  },
  {
   "cell_type": "code",
   "execution_count": 128,
   "id": "51f40e42",
   "metadata": {},
   "outputs": [],
   "source": [
    "#No Catering\n",
    "PB_NoC = PaneraBread_Menu.iloc[:-81]"
   ]
  },
  {
   "cell_type": "code",
   "execution_count": 137,
   "id": "5a1ef3a2",
   "metadata": {},
   "outputs": [
    {
     "name": "stdout",
     "output_type": "stream",
     "text": [
      "The total number of items on McDonalds' menu is 260\n",
      "110 of the items are food\n",
      "150 are beverages/shakes\n",
      "The total number of items on Burgers King's menu is 107\n",
      "104 of the items are food\n",
      "3 are beverages/shakes\n",
      "The total number of items on Taco Bell's menu is 437\n",
      "127 of the items are food\n",
      "310 are beverages/shakes\n",
      "The total number of items on Wendy's menu is 6\n",
      "0 of the items are food\n",
      "6 are beverages/shakes\n",
      "The total number of items on Panera Bread's menu is 535\n",
      "309 of the items are food\n",
      "226 are beverages/shakes\n"
     ]
    }
   ],
   "source": [
    "#How many items in each menu?\n",
    "def menu_total(menu):\n",
    "    length = len(menu)\n",
    "    return length\n",
    "\n",
    "print(\"The total number of items on McDonalds' menu is\", menu_total(McDonalds_Calories))\n",
    "print((menu_total(McD_NoDrinks)), \"of the items are food\")\n",
    "print((menu_total(McDonalds_Calories)-menu_total(McD_NoDrinks)), \"are beverages/shakes\")\n",
    "\n",
    "\n",
    "print(\"The total number of items on Burgers King's menu is\", menu_total(BurgerKing_Calories))\n",
    "print((menu_total(BK_NoDrinks)), \"of the items are food\")\n",
    "print((menu_total(BurgerKing_Calories)-menu_total(BK_NoDrinks)), \"are beverages/shakes\")\n",
    "\n",
    "print(\"The total number of items on Taco Bell's menu is\", menu_total(TacoBell_Calories))\n",
    "print((menu_total(TB_NoDrinks)), \"of the items are food\")\n",
    "print((menu_total(TacoBell_Calories)-menu_total(TB_NoDrinks)), \"are beverages/shakes\")\n",
    "\n",
    "print(\"The total number of items on Wendy's menu is\", menu_total(Wendys_Calories))\n",
    "print((menu_total(W_NoDrinks)), \"of the items are food\")\n",
    "print((menu_total(Wendys_Calories)-menu_total(W_NoDrinks)), \"are beverages/shakes\")\n",
    "\n",
    "print(\"The total number of items on Panera Bread's menu is\", menu_total(PaneraBread_Calories))\n",
    "print((menu_total(PB_NoDrinks)), \"of the items are food\")\n",
    "print((menu_total(PaneraBread_Calories)-menu_total(PB_NoDrinks)), \"are beverages/shakes\")"
   ]
  },
  {
   "cell_type": "code",
   "execution_count": 94,
   "id": "ee1d9daa",
   "metadata": {},
   "outputs": [
    {
     "name": "stdout",
     "output_type": "stream",
     "text": [
      "The total number of items on McDonalds' menu is 260\n",
      "110 of the items are food\n",
      "150 are beverages/shakes\n",
      "The total number of items on Burgers King's menu is 107\n",
      "104 of the items are food\n",
      "3 are beverages/shakes\n",
      "The total number of items on Taco Bell's menu is 437\n",
      "127 of the items are food\n",
      "310 are beverages/shakes\n",
      "The total number of items on Wendy's menu is 6\n",
      "0 of the items are food\n",
      "6 are beverages/shakes\n",
      "The total number of items on Panera Bread's menu is 535\n",
      "230 of the items are food\n",
      "305 are beverages/shakes\n"
     ]
    }
   ],
   "source": [
    "#How many items in each menu?\n",
    "\n",
    "\n",
    "def TB_Total():\n",
    "    print(\"The total number of items on Taco Bell's menu is\", len(TacoBell_Calories))\n",
    "def TB_Total2():\n",
    "    print((len(TB_NoDrinks)), \"of the items are food\")\n",
    "def TB_Total3():\n",
    "    print((len(TacoBell_Calories)-len(TB_NoDrinks)), \"are beverages/shakes\")\n",
    "def W_Total():\n",
    "    print(\"The total number of items on Wendy's menu is\", len(Wendys_Calories))\n",
    "def W_Total2():\n",
    "    print((len(W_NoDrinks)), \"of the items are food\")\n",
    "def W_Total3():\n",
    "    print((len(Wendys_Calories)-len(W_NoDrinks)), \"are beverages/shakes\")\n",
    "def PB_Total():\n",
    "    print(\"The total number of items on Panera Bread's menu is\", len(PaneraBread_Calories))\n",
    "def PB_Total2():\n",
    "    print((len(PB_NoDrinks)), \"of the items are food\")\n",
    "def PB_Total3():\n",
    "    print((len(PaneraBread_Calories)-len(PB_NoDrinks)), \"are beverages/shakes\")\n",
    "\n",
    "McD_Total()\n",
    "McD_Total2()\n",
    "McD_Total3()\n",
    "\n",
    "BK_Total()\n",
    "BK_Total2()\n",
    "BK_Total3()\n",
    "\n",
    "TB_Total()\n",
    "TB_Total2()\n",
    "TB_Total3()\n",
    "\n",
    "W_Total()\n",
    "W_Total2()\n",
    "W_Total3()\n",
    "\n",
    "PB_Total()\n",
    "PB_Total2()\n",
    "PB_Total3()"
   ]
  },
  {
   "cell_type": "code",
   "execution_count": 95,
   "id": "16f93cd9",
   "metadata": {},
   "outputs": [
    {
     "name": "stdout",
     "output_type": "stream",
     "text": [
      "Average calories of McDonalds' menu is 368.27\n",
      "Average calories of Burger King's menu is 432.71\n",
      "Average calories of Taco Bell's menu is 230.39\n",
      "Average calories of Wendy's menu is 426.67\n",
      "Average calories of Panera Bread's menu is 395.02\n"
     ]
    }
   ],
   "source": [
    "#Average calories in each food item\n",
    "def average(menu):\n",
    "    avg = sum(menu)/len(menu)\n",
    "    return avg\n",
    "\n",
    "print(\"Average calories of McDonalds' menu is\", round(average(McDonalds_Calories),2))\n",
    "print(\"Average calories of Burger King's menu is\", round(average(BurgerKing_Calories),2))\n",
    "print(\"Average calories of Taco Bell's menu is\", round(average(TacoBell_Calories),2))\n",
    "print(\"Average calories of Wendy's menu is\", round(average(Wendys_Calories),2))\n",
    "print(\"Average calories of Panera Bread's menu is\", round(average(PaneraBread_Calories),2))"
   ]
  },
  {
   "cell_type": "code",
   "execution_count": 129,
   "id": "ba04cb6e",
   "metadata": {},
   "outputs": [
    {
     "name": "stdout",
     "output_type": "stream",
     "text": [
      "The item with the most calories on McDonalds' menu is Chicken McNuggets (40 piece) with 1880 calories\n",
      "The item with the most calories on Burger King's menu is TRIPLE WHOPPER® Sandwich with Cheese with 1220.0 calories\n",
      "The item with the most calories on Taco Bell's menu is Cinnabon® Delights™ (12 Pk - Serves 4) (V)\n",
      "Cinnabon® Delights™ (12 Pack - Serves 4)\n",
      "Cinnabon® Delights™ (12 Pack - Serves 4) (V) with 930.0 calories\n",
      "The item with the most calories on Wendy's menu is Jalapeno Fresco Spicy Chicken Sandwich with 590.0 calories\n",
      "The item with the most calories on Panera Bread's menu is Lobster Mac & Cheese in Bread Bowl with 1270.0 calories\n"
     ]
    }
   ],
   "source": [
    "def max_item(menu):\n",
    "    max_calorie = max(menu)\n",
    "    return max_calorie\n",
    "\n",
    "biggest_itemM = McDonalds_Menu.loc[McDonalds_Menu['Calories'] == max_item(McDonalds_Menu['Calories']), 'Item']\n",
    "biggest_itemBK = BurgerKing_Menu.loc[BurgerKing_Menu['Calories'] == max_item(BurgerKing_Menu['Calories']), 'Item']\n",
    "biggest_itemTB = TacoBell_Menu.loc[TacoBell_Menu['Calories'] == max_item(TacoBell_Menu['Calories']), 'Item']\n",
    "biggest_itemW = Wendys_Menu.loc[Wendys_Menu['Calories'] == max_item(Wendys_Menu['Calories']), 'Item']\n",
    "biggest_itemPB = PB_NoC.loc[PB_NoC['Calories'] == max_item(PB_NoC['Calories']), 'Item']\n",
    "\n",
    "\n",
    "print(\"The item with the most calories on McDonalds' menu is\", (biggest_itemM.str.cat(sep='\\n')), \"with\", max_item(McDonalds_Menu['Calories']), \"calories\")\n",
    "print(\"The item with the most calories on Burger King's menu is\", (biggest_itemBK.str.cat(sep='\\n')), \"with\", max_item(BurgerKing_Menu['Calories']), \"calories\")\n",
    "print(\"The item with the most calories on Taco Bell's menu is\", (biggest_itemTB.str.cat(sep='\\n')), \"with\", max_item(TacoBell_Menu['Calories']), \"calories\")\n",
    "print(\"The item with the most calories on Wendy's menu is\", (biggest_itemW.str.cat(sep='\\n')), \"with\", max_item(Wendys_Menu['Calories']), \"calories\")\n",
    "print(\"The item with the most calories on Panera Bread's menu is\", (biggest_itemPB.str.cat(sep='\\n')), \"with\", max_item(PB_NoC['Calories']), \"calories\")"
   ]
  },
  {
   "cell_type": "code",
   "execution_count": 98,
   "id": "e8eff1da",
   "metadata": {},
   "outputs": [
    {
     "name": "stdout",
     "output_type": "stream",
     "text": [
      "The item with the most calories on McDonalds' menu is 1880\n",
      "The item with the most calories on Burger King's menu is 1220.0\n",
      "The item with the most calories on Taco Bell's menu is 930.0\n",
      "The item with the most calories on Wendy's menu is 590.0\n",
      "The item with the most calories on Panera Bread's menu is 1280.0\n"
     ]
    }
   ],
   "source": [
    "#Max calorie item\n",
    "max_mcd = max(McDonalds_Calories)\n",
    "max_bk = max(BurgerKing_Calories)\n",
    "max_tb = max(TacoBell_Calories)\n",
    "max_w = max(Wendys_Calories)\n",
    "max_pb = max(PB_NoC)\n",
    "\n",
    "print(\"The item with the most calories on McDonalds' menu is\", max_mcd)\n",
    "print(\"The item with the most calories on Burger King's menu is\", max_bk)\n",
    "print(\"The item with the most calories on Taco Bell's menu is\", max_tb)\n",
    "print(\"The item with the most calories on Wendy's menu is\", max_w)\n",
    "print(\"The item with the most calories on Panera Bread's menu is\", max_pb)"
   ]
  }
 ],
 "metadata": {
  "kernelspec": {
   "display_name": "Python 3 (ipykernel)",
   "language": "python",
   "name": "python3"
  },
  "language_info": {
   "codemirror_mode": {
    "name": "ipython",
    "version": 3
   },
   "file_extension": ".py",
   "mimetype": "text/x-python",
   "name": "python",
   "nbconvert_exporter": "python",
   "pygments_lexer": "ipython3",
   "version": "3.9.7"
  },
  "vscode": {
   "interpreter": {
    "hash": "87ae2aaed6170a3d35ef6f73590cb799329ab5be2267d61d0b68ab721475db9a"
   }
  }
 },
 "nbformat": 4,
 "nbformat_minor": 5
}
