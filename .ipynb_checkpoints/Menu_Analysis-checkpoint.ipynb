{
 "cells": [
  {
   "cell_type": "code",
   "execution_count": 204,
   "id": "12a4826e",
   "metadata": {},
   "outputs": [],
   "source": [
    "import matplotlib.pyplot as plt\n",
    "import pandas as pd\n",
    "import numpy as np"
   ]
  },
  {
   "cell_type": "code",
   "execution_count": 51,
   "id": "a19b2b4e",
   "metadata": {},
   "outputs": [],
   "source": [
    "#Read in data\n",
    "McDonalds_Menu = pd.read_csv('Data_Sets\\McDonalds_Menu.csv')\n",
    "BurgerKing_Menu = pd.read_csv('Data_Sets\\BurgerKing_Menu.csv')\n",
    "TacoBell_Menu = pd.read_csv('Data_Sets\\TacoBell_Menu.csv')\n",
    "Wendys_Menu = pd.read_csv('Data_Sets\\Wendys_Menu.csv')\n",
    "PaneraBread_Menu = pd.read_csv('Data_Sets\\PaneraBread_Menu.csv')"
   ]
  },
  {
   "cell_type": "code",
   "execution_count": 137,
   "id": "51f40e42",
   "metadata": {},
   "outputs": [],
   "source": [
    "#Remove Catering\n",
    "PaneraBread_Menu = PaneraBread_Menu.iloc[:-81]"
   ]
  },
  {
   "cell_type": "code",
   "execution_count": 169,
   "id": "da9d2dab",
   "metadata": {},
   "outputs": [],
   "source": [
    "#Full menu calories\n",
    "McDonalds_Calories = McDonalds_Menu['Calories']\n",
    "BurgerKing_Calories = BurgerKing_Menu['Calories']\n",
    "TacoBell_Calories = TacoBell_Menu['Calories']\n",
    "Wendys_Calories = Wendys_Menu['Calories']\n",
    "PaneraBread_Calories = PaneraBread_Menu['Calories']\n",
    "\n",
    "#Full menu carbohydrates\n",
    "McDonalds_Carbs = McDonalds_Menu[\"Carbohydrates\"]\n",
    "BurgerKing_Carbs = BurgerKing_Menu[\"Total Carb (g)\"]\n",
    "TacoBell_Carbs = TacoBell_Menu[\"Total Carbohydrates (g)\"]\n",
    "Wendys_Carbs = Wendys_Menu[\"Carbohydrates\"]\n",
    "PaneraBread_Carbs = PaneraBread_Menu[\"Carbohydrates (g)\"]\n",
    "\n",
    "#Full menu total fat\n",
    "McDonalds_Fat = McDonalds_Menu[\"Total Fat\"]\n",
    "BurgerKing_Fat = BurgerKing_Menu[\"Total fat (g)\"]\n",
    "TacoBell_Fat = TacoBell_Menu[\"Total Fat (g)\"]\n",
    "Wendys_Fat = Wendys_Menu[\"Fat\"]\n",
    "PaneraBread_Fat = PaneraBread_Menu[\"Fat (g)\"]\n",
    "\n",
    "#Full menu protein\n",
    "McDonalds_Protein = McDonalds_Menu[\"Protein\"]\n",
    "BurgerKing_Protein = BurgerKing_Menu[\"Protein (g)\"]\n",
    "TacoBell_Protein = TacoBell_Menu[\"Protein (g)\"]\n",
    "Wendys_Protein = Wendys_Menu[\"Protein\"]\n",
    "PaneraBread_Protein = PaneraBread_Menu[\"Protein (g)\"]"
   ]
  },
  {
   "cell_type": "code",
   "execution_count": 170,
   "id": "844bd159",
   "metadata": {},
   "outputs": [],
   "source": [
    "#Remove NaN\n",
    "McDonalds_Calories = McDonalds_Calories.dropna()\n",
    "BurgerKing_Calories = BurgerKing_Calories.dropna()\n",
    "TacoBell_Calories = TacoBell_Calories.dropna()\n",
    "Wendys_Calories = Wendys_Calories.dropna()\n",
    "PaneraBread_Calories = PaneraBread_Calories.dropna()\n",
    "\n",
    "McDonalds_Carbs = McDonalds_Carbs.dropna()\n",
    "BurgerKing_Carbs = BurgerKing_Carbs.dropna()\n",
    "TacoBell_Carbs = TacoBell_Carbs.dropna()\n",
    "Wendys_Carbs = Wendys_Carbs.dropna()\n",
    "PaneraBread_Carbs = PaneraBread_Carbs.dropna()\n",
    "\n",
    "McDonalds_Fat = McDonalds_Fat.dropna()\n",
    "BurgerKing_Fat = BurgerKing_Fat.dropna()\n",
    "TacoBell_Fat = TacoBell_Fat.dropna()\n",
    "Wendys_Fat = Wendys_Fat.dropna()\n",
    "PaneraBread_Fat = PaneraBread_Fat.dropna()\n",
    "\n",
    "McDonalds_Protein = McDonalds_Protein.dropna()\n",
    "BurgerKing_Protein = BurgerKing_Protein.dropna()\n",
    "TacoBell_Protein = TacoBell_Protein.dropna()\n",
    "Wendys_Protein = Wendys_Protein.dropna()\n",
    "PaneraBread_Protein = PaneraBread_Protein.dropna()"
   ]
  },
  {
   "cell_type": "code",
   "execution_count": 179,
   "id": "85f1e54f",
   "metadata": {},
   "outputs": [],
   "source": [
    "#Remove < from columns\n",
    "BurgerKing_Carbs = BurgerKing_Carbs.replace('\\<', '', regex=True).astype(float)\n",
    "TacoBell_Carbs = TacoBell_Carbs.replace('\\<', '', regex=True).astype(float)\n",
    "TacoBell_Protein = TacoBell_Protein.replace('\\<', '', regex=True).astype(float)"
   ]
  },
  {
   "cell_type": "code",
   "execution_count": 141,
   "id": "4e9dd41d",
   "metadata": {},
   "outputs": [
    {
     "name": "stdout",
     "output_type": "stream",
     "text": [
      "The total number of items on McDonalds' menu is 260\n",
      "The total number of items on Burgers King's menu is 179\n",
      "The total number of items on Taco Bell's menu is 437\n",
      "The total number of items on Wendy's menu is 140\n",
      "The total number of items on Panera Bread's menu is 457\n"
     ]
    }
   ],
   "source": [
    "#How many items in each menu?\n",
    "def menu_total(menu):\n",
    "    length = len(menu)\n",
    "    return length\n",
    "\n",
    "print(\"The total number of items on McDonalds' menu is\", menu_total(McDonalds_Calories))\n",
    "print(\"The total number of items on Burgers King's menu is\", menu_total(BurgerKing_Calories))\n",
    "print(\"The total number of items on Taco Bell's menu is\", menu_total(TacoBell_Calories))\n",
    "print(\"The total number of items on Wendy's menu is\", menu_total(Wendys_Calories))\n",
    "print(\"The total number of items on Panera Bread's menu is\", menu_total(PaneraBread_Calories))"
   ]
  },
  {
   "cell_type": "code",
   "execution_count": 147,
   "id": "4f483d47",
   "metadata": {},
   "outputs": [
    {
     "name": "stdout",
     "output_type": "stream",
     "text": [
      "The item with the most calories on McDonalds' menu is Chicken McNuggets (40 piece) with 1880 calories\n",
      "The item with the most calories on Burger King's menu is TRIPLE WHOPPER® Sandwich with Cheese with 1220.0 calories\n",
      "The item with the most calories on Taco Bell's menu is Cinnabon® Delights™ (12 Pack - Serves 4) (V) with 930.0 calories\n",
      "The item with the most calories on Wendy's menu is Dave's Triple Cheeseburger with 1060.0 calories\n",
      "The item with the most calories on Panera Bread's menu is Dozen Mixed Cookies with 4850.0 calories\n"
     ]
    }
   ],
   "source": [
    "#Which item has the most calories?\n",
    "def max_item(menu):\n",
    "    max_calorie = max(menu)\n",
    "    return max_calorie\n",
    "\n",
    "biggest_itemM = McDonalds_Menu.loc[McDonalds_Menu['Calories'] == max_item(McDonalds_Calories), 'Item']\n",
    "biggest_itemBK = BurgerKing_Menu.loc[BurgerKing_Menu['Calories'] == max_item(BurgerKing_Calories), 'Item']\n",
    "biggest_itemTB = TacoBell_Menu.loc[TacoBell_Menu['Calories'] == max_item(TacoBell_Calories), 'Item']\n",
    "biggest_itemW = Wendys_Menu.loc[Wendys_Menu['Calories'] == max_item(Wendys_Calories), 'Item']\n",
    "biggest_itemPB = PaneraBread_Menu.loc[PaneraBread_Menu['Calories'] == max_item(PaneraBread_Calories), 'Item']\n",
    "\n",
    "biggest_itemTB = biggest_itemTB.tail(1)\n",
    "\n",
    "print(\"The item with the most calories on McDonalds' menu is\", (biggest_itemM.str.cat(sep='\\n')), \"with\", max_item(McDonalds_Calories), \"calories\")\n",
    "print(\"The item with the most calories on Burger King's menu is\", (biggest_itemBK.str.cat(sep='\\n')), \"with\", max_item(BurgerKing_Calories), \"calories\")\n",
    "print(\"The item with the most calories on Taco Bell's menu is\", (biggest_itemTB.str.cat(sep='\\n')), \"with\", max_item(TacoBell_Calories), \"calories\")\n",
    "print(\"The item with the most calories on Wendy's menu is\", (biggest_itemW.str.cat(sep='\\n')), \"with\", max_item(Wendys_Calories), \"calories\")\n",
    "print(\"The item with the most calories on Panera Bread's menu is\", (biggest_itemPB.str.cat(sep='\\n')), \"with\", max_item(PaneraBread_Calories), \"calories\")"
   ]
  },
  {
   "cell_type": "code",
   "execution_count": 195,
   "id": "981e28da",
   "metadata": {},
   "outputs": [
    {
     "name": "stdout",
     "output_type": "stream",
     "text": [
      "The items with the least calories on McDonalds' menu is Coffee (Large) with 0 calories\n",
      "The items with the least calories on Burger King's menu is BK® Café Decaf Coffee- 20 fl oz with 0.0 calories\n",
      "The items with the least calories on Taco Bell's menu is Pepsi® Zero Sugar (30 fl oz) with 0.0 calories\n",
      "The items with the least calories on Wendy's menu is Redhead Roasters Hot Coffee, Regular with 0.0 calories\n",
      "The items with the least calories on Panera Bread's menu is Sprite Zero - 20 fl oz bottle with 0.0 calories\n"
     ]
    }
   ],
   "source": [
    "#Which item has the least calories?\n",
    "def min_item(menu):\n",
    "    min_calorie = min(menu)\n",
    "    return min_calorie\n",
    "\n",
    "smallest_itemM = McDonalds_Menu.loc[McDonalds_Menu['Calories'] == min_item(McDonalds_Calories), 'Item']\n",
    "smallest_itemBK = BurgerKing_Menu.loc[BurgerKing_Menu['Calories'] == min_item(BurgerKing_Calories), 'Item']\n",
    "smallest_itemTB = TacoBell_Menu.loc[TacoBell_Menu['Calories'] == min_item(TacoBell_Calories), 'Item']\n",
    "smallest_itemW = Wendys_Menu.loc[Wendys_Menu['Calories'] == min_item(Wendys_Calories), 'Item']\n",
    "smallest_itemPB = PaneraBread_Menu.loc[PaneraBread_Menu['Calories'] == min_item(PaneraBread_Calories), 'Item']\n",
    "\n",
    "smallest_itemM = smallest_itemM.tail(1)\n",
    "smallest_itemBK = smallest_itemBK.tail(1)\n",
    "smallest_itemTB = smallest_itemTB.tail(1)\n",
    "smallest_itemW = smallest_itemW.tail(1)\n",
    "smallest_itemPB = smallest_itemPB.tail(1)\n",
    "\n",
    "print(\"The items with the least calories on McDonalds' menu is\", (smallest_itemM.str.cat(sep='\\n')), \"with\", min_item(McDonalds_Calories), \"calories\")\n",
    "print(\"The items with the least calories on Burger King's menu is\", (smallest_itemBK.str.cat(sep='\\n')), \"with\", min_item(BurgerKing_Calories), \"calories\")\n",
    "print(\"The items with the least calories on Taco Bell's menu is\", (smallest_itemTB.str.cat(sep='\\n')), \"with\", min_item(TacoBell_Calories), \"calories\")\n",
    "print(\"The items with the least calories on Wendy's menu is\", (smallest_itemW.str.cat(sep='\\n')), \"with\", min_item(Wendys_Calories), \"calories\")\n",
    "print(\"The items with the least calories on Panera Bread's menu is\", (smallest_itemPB.str.cat(sep='\\n')), \"with\", min_item(PaneraBread_Calories), \"calories\")"
   ]
  },
  {
   "cell_type": "code",
   "execution_count": 206,
   "id": "16f93cd9",
   "metadata": {},
   "outputs": [
    {
     "name": "stdout",
     "output_type": "stream",
     "text": [
      "Average calories of McDonalds' menu is 368.27\n",
      "Average calories of Burger King's menu is 361.82\n",
      "Average calories of Taco Bell's menu is 230.39\n",
      "Average calories of Wendy's menu is 252.93\n",
      "Average calories of Panera Bread's menu is 268.71\n"
     ]
    }
   ],
   "source": [
    "#Average calories in each menu, with and without catering\n",
    "def average(menu):\n",
    "    avg = sum(menu)/len(menu)\n",
    "    return round(avg, 2)\n",
    "\n",
    "avg_calories = {'McDonalds':average(McDonalds_Calories), 'Burger King':average(BurgerKing_Calories), 'Taco Bell':average(TacoBell_Calories), 'Wendys':average(Wendys_Calories), 'Panera Bread':average(PaneraBread_Calories)}\n",
    "Menus = list(avg_calories.keys())\n",
    "Calories = list(avg_calories.values())\n",
    "\n",
    "print(\"Average calories of McDonalds' menu is\", round(average(McDonalds_Calories),2))\n",
    "print(\"Average calories of Burger King's menu is\", round(average(BurgerKing_Calories),2))\n",
    "print(\"Average calories of Taco Bell's menu is\", round(average(TacoBell_Calories),2))\n",
    "print(\"Average calories of Wendy's menu is\", round(average(Wendys_Calories),2))\n",
    "print(\"Average calories of Panera Bread's menu is\", round(average(PaneraBread_Calories),2))"
   ]
  },
  {
   "cell_type": "code",
   "execution_count": 238,
   "id": "4935c5c8",
   "metadata": {},
   "outputs": [
    {
     "data": {
      "image/png": "[encoded data removed]",
      "text/plain": [
       "<Figure size 864x432 with 1 Axes>"
      ]
     },
     "metadata": {
      "needs_background": "light"
     },
     "output_type": "display_data"
    }
   ],
   "source": [
    "#Plot average calories\n",
    "plt.figure(figsize = (12,6))\n",
    "ec = ['red', 'mediumblue', 'rebeccapurple', 'skyblue', 'olive']\n",
    "plt.bar(Menus, Calories, width=0.5, color = ['gold', 'orangered', 'gainsboro', 'firebrick', 'khaki'], edgecolor = ec, linewidth=20.0)\n",
    "plt.xlabel('Restaurant')\n",
    "plt.ylabel('Calories')\n",
    "plt.title('Average Calories')\n",
    "plt.show()"
   ]
  },
  {
   "cell_type": "code",
   "execution_count": 193,
   "id": "a2c2ce98",
   "metadata": {},
   "outputs": [
    {
     "name": "stdout",
     "output_type": "stream",
     "text": [
      "percentage of carbs in panera's menu is  69.66%\n"
     ]
    }
   ],
   "source": [
    "def menu_macros(menu):\n",
    "    total = sum(menu)\n",
    "    return total\n",
    "\n",
    "def percentage(part, whole):\n",
    "    percentage = 100 * float(part)/float(whole)\n",
    "    return str(round(percentage, 2)) + \"%\"\n",
    "\n",
    "McD_Fat = menu_macros(McDonalds_Fat)\n",
    "McD_Carbs = menu_macros(McDonalds_Carbs)\n",
    "McD_Protein = menu_macros(McDonalds_Protein)\n",
    "McD_MT = (McD_Fat) + (McD_Carbs) + (McD_Protein)\n",
    "\n",
    "BK_Fat = menu_macros(BurgerKing_Fat)\n",
    "BK_Carbs = menu_macros(BurgerKing_Carbs)\n",
    "BK_Protein = menu_macros(BurgerKing_Protein)\n",
    "BK_MT = (BK_Fat) + (BK_Carbs) + (BK_Protein)\n",
    "\n",
    "TB_Fat = menu_macros(TacoBell_Fat)\n",
    "TB_Carbs = menu_macros(TacoBell_Carbs)\n",
    "TB_Protein = menu_macros(TacoBell_Protein)\n",
    "TB_MT = (TB_Fat) + (TB_Carbs) + (TB_Protein)\n",
    "\n",
    "W_Fat = menu_macros(Wendys_Fat)\n",
    "W_Carbs = menu_macros(Wendys_Carbs)\n",
    "W_Protein = menu_macros(Wendys_Protein)\n",
    "W_MT = (W_Fat) + (W_Carbs) + (W_Protein)\n",
    "\n",
    "PB_Fat = menu_macros(PaneraBread_Fat)\n",
    "PB_Carbs = menu_macros(PaneraBread_Carbs)\n",
    "PB_Protein = menu_macros(PaneraBread_Protein)\n",
    "PB_MT = (PB_Fat) + (PB_Carbs) + (PB_Protein)\n",
    "\n",
    "print(\"percentage of carbs in panera's menu is \", percentage(PB_Carbs, PB_MT))"
   ]
  },
  {
   "cell_type": "code",
   "execution_count": 265,
   "id": "68178639",
   "metadata": {},
   "outputs": [
    {
     "data": {
      "image/png": "[encoded data removed]",
      "text/plain": [
       "<Figure size 432x288 with 2 Axes>"
      ]
     },
     "metadata": {},
     "output_type": "display_data"
    }
   ],
   "source": [
    "mylabels = 'Fat', 'Carbs', 'Protein'\n",
    "MCD = [McD_Fat, McD_Carbs, McD_Protein]\n",
    "BK = [BK_Fat, BK_Carbs, BK_Protein]\n",
    "TB = [TB_Fat, TB_Carbs, TB_Protein]\n",
    "W = [W_Fat, W_Carbs, W_Protein]\n",
    "PB = [PB_Fat, PB_Carbs, PB_Protein]\n",
    "\n",
    "plt.subplot(1, 2, 1)\n",
    "plt.pie(MCD, labels = mylabels)\n",
    "plt.title('McDonalds', color = 'b')\n",
    "\n",
    "plt.subplot(1, 2, 2)\n",
    "plt.pie(BK, labels = mylabels)\n",
    "plt.title('Burger King', color = 'b')\n",
    "\n",
    "plt.subplot(2, 2, 1)\n",
    "plt.pie(TB, labels = mylabels)\n",
    "plt.title('Taco Bell', color = 'b')\n",
    "\n",
    "plt.subplot(2, 2, 2)\n",
    "plt.pie(W, labels = mylabels)\n",
    "plt.title('Wendys', color = 'b')\n",
    "\n",
    "plt.subplot(3, 2, 1)\n",
    "plt.pie(PB, labels = mylabels)\n",
    "plt.title('Panera Bread', color = 'b')\n",
    "\n",
    "plt.show()"
   ]
  },
  {
   "cell_type": "code",
   "execution_count": 297,
   "id": "731e7609",
   "metadata": {
    "scrolled": false
   },
   "outputs": [
    {
     "data": {
      "image/png": "[encoded data removed]",
      "text/plain": [
       "<Figure size 1080x576 with 1 Axes>"
      ]
     },
     "metadata": {
      "needs_background": "light"
     },
     "output_type": "display_data"
    }
   ],
   "source": [
    "x = ['Fat', 'Carbs', 'Protein']\n",
    "\n",
    "MCD = [McD_Fat, McD_Carbs, McD_Protein]\n",
    "BK = [BK_Fat, BK_Carbs, BK_Protein]\n",
    "TB = [TB_Fat, TB_Carbs, TB_Protein]\n",
    "W = [W_Fat, W_Carbs, W_Protein]\n",
    "PB = [PB_Fat, PB_Carbs, PB_Protein]\n",
    "\n",
    "x_axis = np.arange(len(x))\n",
    "\n",
    "plt.figure(figsize = (15,8))\n",
    "plt.bar(x_axis + 0.20, MCD, 0.2, align='center', label = 'McDonalds')\n",
    "plt.bar(x_axis + 0.20*2, BK, 0.2, align='center', label = 'Burger King')\n",
    "plt.bar(x_axis + 0.20*3, TB, 0.2, align='center', label = 'Taco Bell')\n",
    "plt.bar(x_axis + 0.20*4, W, 0.2, align='center', label = 'Wendys')\n",
    "plt.bar(x_axis + 0.20*5, PB, 0.2, align='center', label = 'Panera Bread')\n",
    "plt.xticks(x_axis, x)\n",
    "plt.xlabel(\"Restaurants\")\n",
    "plt.ylabel(\"Measurement in grams\")\n",
    "plt.title(\"Macros per Restaurant\")\n",
    "plt.legend()\n",
    "plt.show()"
   ]
  },
  {
   "cell_type": "code",
   "execution_count": 311,
   "id": "58621186",
   "metadata": {},
   "outputs": [
    {
     "ename": "ValueError",
     "evalue": "shape mismatch: objects cannot be broadcast to a single shape",
     "output_type": "error",
     "traceback": [
      "\u001b[1;31m---------------------------------------------------------------------------\u001b[0m",
      "\u001b[1;31mValueError\u001b[0m                                Traceback (most recent call last)",
      "\u001b[1;32m~\\AppData\\Local\\Temp/ipykernel_33864/246966363.py\u001b[0m in \u001b[0;36m<module>\u001b[1;34m\u001b[0m\n\u001b[0;32m      4\u001b[0m \u001b[1;33m\u001b[0m\u001b[0m\n\u001b[0;32m      5\u001b[0m \u001b[0mvvals\u001b[0m \u001b[1;33m=\u001b[0m \u001b[1;33m[\u001b[0m\u001b[0mMcD_Fat\u001b[0m\u001b[1;33m,\u001b[0m \u001b[0mMcD_Carbs\u001b[0m\u001b[1;33m,\u001b[0m \u001b[0mMcD_Protein\u001b[0m\u001b[1;33m]\u001b[0m\u001b[1;33m\u001b[0m\u001b[1;33m\u001b[0m\u001b[0m\n\u001b[1;32m----> 6\u001b[1;33m \u001b[0mbar1\u001b[0m \u001b[1;33m=\u001b[0m \u001b[0mplt\u001b[0m\u001b[1;33m.\u001b[0m\u001b[0mbar\u001b[0m\u001b[1;33m(\u001b[0m\u001b[0mind\u001b[0m\u001b[1;33m,\u001b[0m \u001b[0mvvals\u001b[0m\u001b[1;33m,\u001b[0m \u001b[0mwidth\u001b[0m\u001b[1;33m,\u001b[0m \u001b[0mcolor\u001b[0m \u001b[1;33m=\u001b[0m \u001b[1;34m'r'\u001b[0m\u001b[1;33m)\u001b[0m\u001b[1;33m\u001b[0m\u001b[1;33m\u001b[0m\u001b[0m\n\u001b[0m\u001b[0;32m      7\u001b[0m \u001b[1;33m\u001b[0m\u001b[0m\n\u001b[0;32m      8\u001b[0m \u001b[0mwvals\u001b[0m \u001b[1;33m=\u001b[0m \u001b[1;33m[\u001b[0m\u001b[0mBK_Fat\u001b[0m\u001b[1;33m,\u001b[0m \u001b[0mBK_Carbs\u001b[0m\u001b[1;33m,\u001b[0m \u001b[0mBK_Protein\u001b[0m\u001b[1;33m]\u001b[0m\u001b[1;33m\u001b[0m\u001b[1;33m\u001b[0m\u001b[0m\n",
      "\u001b[1;32m~\\anaconda3\\lib\\site-packages\\matplotlib\\pyplot.py\u001b[0m in \u001b[0;36mbar\u001b[1;34m(x, height, width, bottom, align, data, **kwargs)\u001b[0m\n\u001b[0;32m   2649\u001b[0m         \u001b[0mx\u001b[0m\u001b[1;33m,\u001b[0m \u001b[0mheight\u001b[0m\u001b[1;33m,\u001b[0m \u001b[0mwidth\u001b[0m\u001b[1;33m=\u001b[0m\u001b[1;36m0.8\u001b[0m\u001b[1;33m,\u001b[0m \u001b[0mbottom\u001b[0m\u001b[1;33m=\u001b[0m\u001b[1;32mNone\u001b[0m\u001b[1;33m,\u001b[0m \u001b[1;33m*\u001b[0m\u001b[1;33m,\u001b[0m \u001b[0malign\u001b[0m\u001b[1;33m=\u001b[0m\u001b[1;34m'center'\u001b[0m\u001b[1;33m,\u001b[0m\u001b[1;33m\u001b[0m\u001b[1;33m\u001b[0m\u001b[0m\n\u001b[0;32m   2650\u001b[0m         data=None, **kwargs):\n\u001b[1;32m-> 2651\u001b[1;33m     return gca().bar(\n\u001b[0m\u001b[0;32m   2652\u001b[0m         \u001b[0mx\u001b[0m\u001b[1;33m,\u001b[0m \u001b[0mheight\u001b[0m\u001b[1;33m,\u001b[0m \u001b[0mwidth\u001b[0m\u001b[1;33m=\u001b[0m\u001b[0mwidth\u001b[0m\u001b[1;33m,\u001b[0m \u001b[0mbottom\u001b[0m\u001b[1;33m=\u001b[0m\u001b[0mbottom\u001b[0m\u001b[1;33m,\u001b[0m \u001b[0malign\u001b[0m\u001b[1;33m=\u001b[0m\u001b[0malign\u001b[0m\u001b[1;33m,\u001b[0m\u001b[1;33m\u001b[0m\u001b[1;33m\u001b[0m\u001b[0m\n\u001b[0;32m   2653\u001b[0m         **({\"data\": data} if data is not None else {}), **kwargs)\n",
      "\u001b[1;32m~\\anaconda3\\lib\\site-packages\\matplotlib\\__init__.py\u001b[0m in \u001b[0;36minner\u001b[1;34m(ax, data, *args, **kwargs)\u001b[0m\n\u001b[0;32m   1359\u001b[0m     \u001b[1;32mdef\u001b[0m \u001b[0minner\u001b[0m\u001b[1;33m(\u001b[0m\u001b[0max\u001b[0m\u001b[1;33m,\u001b[0m \u001b[1;33m*\u001b[0m\u001b[0margs\u001b[0m\u001b[1;33m,\u001b[0m \u001b[0mdata\u001b[0m\u001b[1;33m=\u001b[0m\u001b[1;32mNone\u001b[0m\u001b[1;33m,\u001b[0m \u001b[1;33m**\u001b[0m\u001b[0mkwargs\u001b[0m\u001b[1;33m)\u001b[0m\u001b[1;33m:\u001b[0m\u001b[1;33m\u001b[0m\u001b[1;33m\u001b[0m\u001b[0m\n\u001b[0;32m   1360\u001b[0m         \u001b[1;32mif\u001b[0m \u001b[0mdata\u001b[0m \u001b[1;32mis\u001b[0m \u001b[1;32mNone\u001b[0m\u001b[1;33m:\u001b[0m\u001b[1;33m\u001b[0m\u001b[1;33m\u001b[0m\u001b[0m\n\u001b[1;32m-> 1361\u001b[1;33m             \u001b[1;32mreturn\u001b[0m \u001b[0mfunc\u001b[0m\u001b[1;33m(\u001b[0m\u001b[0max\u001b[0m\u001b[1;33m,\u001b[0m \u001b[1;33m*\u001b[0m\u001b[0mmap\u001b[0m\u001b[1;33m(\u001b[0m\u001b[0msanitize_sequence\u001b[0m\u001b[1;33m,\u001b[0m \u001b[0margs\u001b[0m\u001b[1;33m)\u001b[0m\u001b[1;33m,\u001b[0m \u001b[1;33m**\u001b[0m\u001b[0mkwargs\u001b[0m\u001b[1;33m)\u001b[0m\u001b[1;33m\u001b[0m\u001b[1;33m\u001b[0m\u001b[0m\n\u001b[0m\u001b[0;32m   1362\u001b[0m \u001b[1;33m\u001b[0m\u001b[0m\n\u001b[0;32m   1363\u001b[0m         \u001b[0mbound\u001b[0m \u001b[1;33m=\u001b[0m \u001b[0mnew_sig\u001b[0m\u001b[1;33m.\u001b[0m\u001b[0mbind\u001b[0m\u001b[1;33m(\u001b[0m\u001b[0max\u001b[0m\u001b[1;33m,\u001b[0m \u001b[1;33m*\u001b[0m\u001b[0margs\u001b[0m\u001b[1;33m,\u001b[0m \u001b[1;33m**\u001b[0m\u001b[0mkwargs\u001b[0m\u001b[1;33m)\u001b[0m\u001b[1;33m\u001b[0m\u001b[1;33m\u001b[0m\u001b[0m\n",
      "\u001b[1;32m~\\anaconda3\\lib\\site-packages\\matplotlib\\axes\\_axes.py\u001b[0m in \u001b[0;36mbar\u001b[1;34m(self, x, height, width, bottom, align, **kwargs)\u001b[0m\n\u001b[0;32m   2302\u001b[0m                 \u001b[0myerr\u001b[0m \u001b[1;33m=\u001b[0m \u001b[0mself\u001b[0m\u001b[1;33m.\u001b[0m\u001b[0m_convert_dx\u001b[0m\u001b[1;33m(\u001b[0m\u001b[0myerr\u001b[0m\u001b[1;33m,\u001b[0m \u001b[0my0\u001b[0m\u001b[1;33m,\u001b[0m \u001b[0my\u001b[0m\u001b[1;33m,\u001b[0m \u001b[0mself\u001b[0m\u001b[1;33m.\u001b[0m\u001b[0mconvert_yunits\u001b[0m\u001b[1;33m)\u001b[0m\u001b[1;33m\u001b[0m\u001b[1;33m\u001b[0m\u001b[0m\n\u001b[0;32m   2303\u001b[0m \u001b[1;33m\u001b[0m\u001b[0m\n\u001b[1;32m-> 2304\u001b[1;33m         x, height, width, y, linewidth, hatch = np.broadcast_arrays(\n\u001b[0m\u001b[0;32m   2305\u001b[0m             \u001b[1;31m# Make args iterable too.\u001b[0m\u001b[1;33m\u001b[0m\u001b[1;33m\u001b[0m\u001b[0m\n\u001b[0;32m   2306\u001b[0m             np.atleast_1d(x), height, width, y, linewidth, hatch)\n",
      "\u001b[1;32m<__array_function__ internals>\u001b[0m in \u001b[0;36mbroadcast_arrays\u001b[1;34m(*args, **kwargs)\u001b[0m\n",
      "\u001b[1;32m~\\anaconda3\\lib\\site-packages\\numpy\\lib\\stride_tricks.py\u001b[0m in \u001b[0;36mbroadcast_arrays\u001b[1;34m(subok, *args)\u001b[0m\n\u001b[0;32m    536\u001b[0m     \u001b[0margs\u001b[0m \u001b[1;33m=\u001b[0m \u001b[1;33m[\u001b[0m\u001b[0mnp\u001b[0m\u001b[1;33m.\u001b[0m\u001b[0marray\u001b[0m\u001b[1;33m(\u001b[0m\u001b[0m_m\u001b[0m\u001b[1;33m,\u001b[0m \u001b[0mcopy\u001b[0m\u001b[1;33m=\u001b[0m\u001b[1;32mFalse\u001b[0m\u001b[1;33m,\u001b[0m \u001b[0msubok\u001b[0m\u001b[1;33m=\u001b[0m\u001b[0msubok\u001b[0m\u001b[1;33m)\u001b[0m \u001b[1;32mfor\u001b[0m \u001b[0m_m\u001b[0m \u001b[1;32min\u001b[0m \u001b[0margs\u001b[0m\u001b[1;33m]\u001b[0m\u001b[1;33m\u001b[0m\u001b[1;33m\u001b[0m\u001b[0m\n\u001b[0;32m    537\u001b[0m \u001b[1;33m\u001b[0m\u001b[0m\n\u001b[1;32m--> 538\u001b[1;33m     \u001b[0mshape\u001b[0m \u001b[1;33m=\u001b[0m \u001b[0m_broadcast_shape\u001b[0m\u001b[1;33m(\u001b[0m\u001b[1;33m*\u001b[0m\u001b[0margs\u001b[0m\u001b[1;33m)\u001b[0m\u001b[1;33m\u001b[0m\u001b[1;33m\u001b[0m\u001b[0m\n\u001b[0m\u001b[0;32m    539\u001b[0m \u001b[1;33m\u001b[0m\u001b[0m\n\u001b[0;32m    540\u001b[0m     \u001b[1;32mif\u001b[0m \u001b[0mall\u001b[0m\u001b[1;33m(\u001b[0m\u001b[0marray\u001b[0m\u001b[1;33m.\u001b[0m\u001b[0mshape\u001b[0m \u001b[1;33m==\u001b[0m \u001b[0mshape\u001b[0m \u001b[1;32mfor\u001b[0m \u001b[0marray\u001b[0m \u001b[1;32min\u001b[0m \u001b[0margs\u001b[0m\u001b[1;33m)\u001b[0m\u001b[1;33m:\u001b[0m\u001b[1;33m\u001b[0m\u001b[1;33m\u001b[0m\u001b[0m\n",
      "\u001b[1;32m~\\anaconda3\\lib\\site-packages\\numpy\\lib\\stride_tricks.py\u001b[0m in \u001b[0;36m_broadcast_shape\u001b[1;34m(*args)\u001b[0m\n\u001b[0;32m    418\u001b[0m     \u001b[1;31m# use the old-iterator because np.nditer does not handle size 0 arrays\u001b[0m\u001b[1;33m\u001b[0m\u001b[1;33m\u001b[0m\u001b[0m\n\u001b[0;32m    419\u001b[0m     \u001b[1;31m# consistently\u001b[0m\u001b[1;33m\u001b[0m\u001b[1;33m\u001b[0m\u001b[0m\n\u001b[1;32m--> 420\u001b[1;33m     \u001b[0mb\u001b[0m \u001b[1;33m=\u001b[0m \u001b[0mnp\u001b[0m\u001b[1;33m.\u001b[0m\u001b[0mbroadcast\u001b[0m\u001b[1;33m(\u001b[0m\u001b[1;33m*\u001b[0m\u001b[0margs\u001b[0m\u001b[1;33m[\u001b[0m\u001b[1;33m:\u001b[0m\u001b[1;36m32\u001b[0m\u001b[1;33m]\u001b[0m\u001b[1;33m)\u001b[0m\u001b[1;33m\u001b[0m\u001b[1;33m\u001b[0m\u001b[0m\n\u001b[0m\u001b[0;32m    421\u001b[0m     \u001b[1;31m# unfortunately, it cannot handle 32 or more arguments directly\u001b[0m\u001b[1;33m\u001b[0m\u001b[1;33m\u001b[0m\u001b[0m\n\u001b[0;32m    422\u001b[0m     \u001b[1;32mfor\u001b[0m \u001b[0mpos\u001b[0m \u001b[1;32min\u001b[0m \u001b[0mrange\u001b[0m\u001b[1;33m(\u001b[0m\u001b[1;36m32\u001b[0m\u001b[1;33m,\u001b[0m \u001b[0mlen\u001b[0m\u001b[1;33m(\u001b[0m\u001b[0margs\u001b[0m\u001b[1;33m)\u001b[0m\u001b[1;33m,\u001b[0m \u001b[1;36m31\u001b[0m\u001b[1;33m)\u001b[0m\u001b[1;33m:\u001b[0m\u001b[1;33m\u001b[0m\u001b[1;33m\u001b[0m\u001b[0m\n",
      "\u001b[1;31mValueError\u001b[0m: shape mismatch: objects cannot be broadcast to a single shape"
     ]
    },
    {
     "data": {
      "image/png": "[encoded data removed]",
      "text/plain": [
       "<Figure size 432x288 with 1 Axes>"
      ]
     },
     "metadata": {
      "needs_background": "light"
     },
     "output_type": "display_data"
    }
   ],
   "source": [
    "N = 5\n",
    "ind = np.arange(N) \n",
    "width = 0.25\n",
    "\n",
    "vvals = [McD_Fat, McD_Carbs, McD_Protein]\n",
    "bar1 = plt.bar(ind, vvals, width, color = 'r')\n",
    "  \n",
    "wvals = [BK_Fat, BK_Carbs, BK_Protein]\n",
    "bar2 = plt.bar(ind+width, wvals, width, color='g')\n",
    "\n",
    "xvals = [TB_Fat, TB_Carbs, TB_Protein]\n",
    "bar3 = plt.bar(ind, xvals, width, color = 'r')\n",
    "  \n",
    "yvals = [W_Fat, W_Carbs, W_Protein]\n",
    "bar4 = plt.bar(ind+width, yvals, width, color='g')\n",
    "  \n",
    "zvals = [PB_Fat, PB_Carbs, PB_Protein]\n",
    "bar5 = plt.bar(ind+width*2, zvals, width, color = 'b')\n",
    "\n",
    "plt.xlabel(\"Macros\")\n",
    "plt.ylabel('Grams')\n",
    "plt.title(\"Restaurant Macros\")\n",
    "  \n",
    "plt.xticks(ind+width,['Fat', 'Carbohydrates', 'Protein'])\n",
    "plt.legend( (bar1, bar2, bar3, bar4, bar5), ('McDonalds', 'Burger King', 'Taco Bell', 'Wendys', 'Panera Bread') )\n",
    "plt.show()"
   ]
  }
 ],
 "metadata": {
  "kernelspec": {
   "display_name": "Python 3 (ipykernel)",
   "language": "python",
   "name": "python3"
  },
  "language_info": {
   "codemirror_mode": {
    "name": "ipython",
    "version": 3
   },
   "file_extension": ".py",
   "mimetype": "text/x-python",
   "name": "python",
   "nbconvert_exporter": "python",
   "pygments_lexer": "ipython3",
   "version": "3.9.7"
  },
  "vscode": {
   "interpreter": {
    "hash": "87ae2aaed6170a3d35ef6f73590cb799329ab5be2267d61d0b68ab721475db9a"
   }
  }
 },
 "nbformat": 4,
 "nbformat_minor": 5
}
