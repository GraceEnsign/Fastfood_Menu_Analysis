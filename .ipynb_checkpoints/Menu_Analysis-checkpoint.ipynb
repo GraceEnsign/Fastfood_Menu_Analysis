{
 "cells": [
  {
   "cell_type": "code",
   "execution_count": 1,
   "id": "12a4826e",
   "metadata": {},
   "outputs": [],
   "source": [
    "import matplotlib as plt\n",
    "import pandas as pd\n",
    "import numpy as np"
   ]
  },
  {
   "cell_type": "code",
   "execution_count": 2,
   "id": "a19b2b4e",
   "metadata": {},
   "outputs": [],
   "source": [
    "McDonalds_Menu = pd.read_csv('Data_Sets\\McDonalds_Menu.csv')\n",
    "BurgerKing_Menu = pd.read_csv('Data_Sets\\BurgerKing_Menu.csv')\n",
    "TacoBell_Menu = pd.read_csv('Data_Sets\\TacoBell_Menu.csv')\n",
    "Wendys_Menu = pd.read_csv('Data_Sets\\Wendys_Menu.csv')\n",
    "PaneraBread_Menu = pd.read_csv('Data_Sets\\PaneraBread_Menu.csv')"
   ]
  },
  {
   "cell_type": "code",
   "execution_count": 46,
   "id": "da9d2dab",
   "metadata": {},
   "outputs": [],
   "source": [
    "#Full Menu\n",
    "McDonalds_Calories = McDonalds_Menu['Calories']\n",
    "BurgerKing_Calories = BurgerKing_Menu['Calories']\n",
    "TacoBell_Calories = TacoBell_Menu['Calories']\n",
    "Wendys_Calories = Wendys_Menu['Calories']\n",
    "PaneraBread_Calories = PaneraBread_Menu['Calories']"
   ]
  },
  {
   "cell_type": "code",
   "execution_count": 67,
   "id": "b2a09d4c",
   "metadata": {
    "scrolled": true
   },
   "outputs": [
    {
     "data": {
      "text/plain": [
       "54      45.0\n",
       "55      40.0\n",
       "56      50.0\n",
       "57      70.0\n",
       "58     120.0\n",
       "       ...  \n",
       "156    420.0\n",
       "157    320.0\n",
       "158    230.0\n",
       "159    270.0\n",
       "160    320.0\n",
       "Name: Calories, Length: 107, dtype: float64"
      ]
     },
     "execution_count": 67,
     "metadata": {},
     "output_type": "execute_result"
    }
   ],
   "source": [
    "#Without Drinks\n",
    "McD_NoDrinks = McDonalds_Calories[0:110]\n",
    "\n",
    "BK_NoDrinks1 = BurgerKing_Calories[1:73]\n",
    "BK_NoDrinks2 = BurgerKing_Calories[78:128]\n",
    "BK_NoDrinks = [*BK_NoDrinks1, *BK_NoDrinks2]\n",
    "\n",
    "TB_NoDrinks1 = TacoBell_Calories[0:84]\n",
    "TB_NoDrinks2 = TacoBell_Calories[110:174]\n",
    "TB_NoDrinks = [*TB_NoDrinks1, *TB_NoDrinks2]\n",
    "\n",
    "W_NoDrinks1 = Wendys_Calories[22:41]\n",
    "W_NoDrinks2 = Wendys_Calories[54:161]\n",
    "W_NoDrinks = [*W_NoDrinks1, *W_NoDrinks2]\n",
    "\n",
    "PB_NoDrinks1 = PaneraBread_Calories[1:82]\n",
    "PB_NoDrinks2 = PaneraBread_Calories[313:570]\n",
    "PB_NoDrinks = [*PB_NoDrinks1, *PB_NoDrinks2]\n",
    "\n",
    "W_NoDrinks2"
   ]
  }
 ],
 "metadata": {
  "kernelspec": {
   "display_name": "Python 3 (ipykernel)",
   "language": "python",
   "name": "python3"
  },
  "language_info": {
   "codemirror_mode": {
    "name": "ipython",
    "version": 3
   },
   "file_extension": ".py",
   "mimetype": "text/x-python",
   "name": "python",
   "nbconvert_exporter": "python",
   "pygments_lexer": "ipython3",
   "version": "3.9.7"
  },
  "vscode": {
   "interpreter": {
    "hash": "87ae2aaed6170a3d35ef6f73590cb799329ab5be2267d61d0b68ab721475db9a"
   }
  }
 },
 "nbformat": 4,
 "nbformat_minor": 5
}
