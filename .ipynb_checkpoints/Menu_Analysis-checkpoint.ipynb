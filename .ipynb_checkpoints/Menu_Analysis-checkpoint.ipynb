{
 "cells": [
  {
   "cell_type": "code",
   "execution_count": 117,
   "id": "12a4826e",
   "metadata": {},
   "outputs": [],
   "source": [
    "import matplotlib.pyplot as plt\n",
    "import pandas as pd\n",
    "import numpy as np\n",
    "import matplotlib.ticker as mtick"
   ]
  },
  {
   "cell_type": "code",
   "execution_count": 102,
   "id": "a19b2b4e",
   "metadata": {},
   "outputs": [],
   "source": [
    "#Read in data\n",
    "McDonalds_Menu = pd.read_csv('Data_Sets\\McDonalds_Menu.csv')\n",
    "BurgerKing_Menu = pd.read_csv('Data_Sets\\BurgerKing_Menu.csv')\n",
    "TacoBell_Menu = pd.read_csv('Data_Sets\\TacoBell_Menu.csv')\n",
    "Wendys_Menu = pd.read_csv('Data_Sets\\Wendys_Menu.csv')\n",
    "PaneraBread_Menu = pd.read_csv('Data_Sets\\PaneraBread_Menu.csv')"
   ]
  },
  {
   "cell_type": "code",
   "execution_count": 103,
   "id": "51f40e42",
   "metadata": {},
   "outputs": [],
   "source": [
    "#Remove Catering\n",
    "PaneraBread_Menu = PaneraBread_Menu.iloc[:-81]"
   ]
  },
  {
   "cell_type": "code",
   "execution_count": 104,
   "id": "da9d2dab",
   "metadata": {},
   "outputs": [],
   "source": [
    "#Full menu calories\n",
    "McDonalds_Calories = McDonalds_Menu['Calories']\n",
    "BurgerKing_Calories = BurgerKing_Menu['Calories']\n",
    "TacoBell_Calories = TacoBell_Menu['Calories']\n",
    "Wendys_Calories = Wendys_Menu['Calories']\n",
    "PaneraBread_Calories = PaneraBread_Menu['Calories']\n",
    "\n",
    "#Full menu carbohydrates\n",
    "McDonalds_Carbs = McDonalds_Menu[\"Carbohydrates\"]\n",
    "BurgerKing_Carbs = BurgerKing_Menu[\"Total Carb (g)\"]\n",
    "TacoBell_Carbs = TacoBell_Menu[\"Total Carbohydrates (g)\"]\n",
    "Wendys_Carbs = Wendys_Menu[\"Carbohydrates\"]\n",
    "PaneraBread_Carbs = PaneraBread_Menu[\"Carbohydrates (g)\"]\n",
    "\n",
    "#Full menu total fat\n",
    "McDonalds_Fat = McDonalds_Menu[\"Total Fat\"]\n",
    "BurgerKing_Fat = BurgerKing_Menu[\"Total fat (g)\"]\n",
    "TacoBell_Fat = TacoBell_Menu[\"Total Fat (g)\"]\n",
    "Wendys_Fat = Wendys_Menu[\"Fat\"]\n",
    "PaneraBread_Fat = PaneraBread_Menu[\"Fat (g)\"]\n",
    "\n",
    "#Full menu protein\n",
    "McDonalds_Protein = McDonalds_Menu[\"Protein\"]\n",
    "BurgerKing_Protein = BurgerKing_Menu[\"Protein (g)\"]\n",
    "TacoBell_Protein = TacoBell_Menu[\"Protein (g)\"]\n",
    "Wendys_Protein = Wendys_Menu[\"Protein\"]\n",
    "PaneraBread_Protein = PaneraBread_Menu[\"Protein (g)\"]"
   ]
  },
  {
   "cell_type": "code",
   "execution_count": 105,
   "id": "844bd159",
   "metadata": {},
   "outputs": [],
   "source": [
    "#Remove NaN\n",
    "McDonalds_Calories = McDonalds_Calories.dropna()\n",
    "BurgerKing_Calories = BurgerKing_Calories.dropna()\n",
    "TacoBell_Calories = TacoBell_Calories.dropna()\n",
    "Wendys_Calories = Wendys_Calories.dropna()\n",
    "PaneraBread_Calories = PaneraBread_Calories.dropna()\n",
    "\n",
    "McDonalds_Carbs = McDonalds_Carbs.dropna()\n",
    "BurgerKing_Carbs = BurgerKing_Carbs.dropna()\n",
    "TacoBell_Carbs = TacoBell_Carbs.dropna()\n",
    "Wendys_Carbs = Wendys_Carbs.dropna()\n",
    "PaneraBread_Carbs = PaneraBread_Carbs.dropna()\n",
    "\n",
    "McDonalds_Fat = McDonalds_Fat.dropna()\n",
    "BurgerKing_Fat = BurgerKing_Fat.dropna()\n",
    "TacoBell_Fat = TacoBell_Fat.dropna()\n",
    "Wendys_Fat = Wendys_Fat.dropna()\n",
    "PaneraBread_Fat = PaneraBread_Fat.dropna()\n",
    "\n",
    "McDonalds_Protein = McDonalds_Protein.dropna()\n",
    "BurgerKing_Protein = BurgerKing_Protein.dropna()\n",
    "TacoBell_Protein = TacoBell_Protein.dropna()\n",
    "Wendys_Protein = Wendys_Protein.dropna()\n",
    "PaneraBread_Protein = PaneraBread_Protein.dropna()"
   ]
  },
  {
   "cell_type": "code",
   "execution_count": 106,
   "id": "85f1e54f",
   "metadata": {},
   "outputs": [],
   "source": [
    "#Remove < from columns\n",
    "BurgerKing_Carbs = BurgerKing_Carbs.replace('\\<', '', regex=True).astype(float)\n",
    "TacoBell_Carbs = TacoBell_Carbs.replace('\\<', '', regex=True).astype(float)\n",
    "TacoBell_Protein = TacoBell_Protein.replace('\\<', '', regex=True).astype(float)"
   ]
  },
  {
   "cell_type": "code",
   "execution_count": 107,
   "id": "4e9dd41d",
   "metadata": {},
   "outputs": [
    {
     "name": "stdout",
     "output_type": "stream",
     "text": [
      "The total number of items on McDonalds' menu is 260\n",
      "The total number of items on Burgers King's menu is 179\n",
      "The total number of items on Taco Bell's menu is 437\n",
      "The total number of items on Wendy's menu is 140\n",
      "The total number of items on Panera Bread's menu is 457\n"
     ]
    }
   ],
   "source": [
    "#How many items in each menu?\n",
    "def menu_total(menu):\n",
    "    length = len(menu)\n",
    "    return length\n",
    "\n",
    "print(\"The total number of items on McDonalds' menu is\", menu_total(McDonalds_Calories))\n",
    "print(\"The total number of items on Burgers King's menu is\", menu_total(BurgerKing_Calories))\n",
    "print(\"The total number of items on Taco Bell's menu is\", menu_total(TacoBell_Calories))\n",
    "print(\"The total number of items on Wendy's menu is\", menu_total(Wendys_Calories))\n",
    "print(\"The total number of items on Panera Bread's menu is\", menu_total(PaneraBread_Calories))"
   ]
  },
  {
   "cell_type": "code",
   "execution_count": 108,
   "id": "4f483d47",
   "metadata": {},
   "outputs": [
    {
     "name": "stdout",
     "output_type": "stream",
     "text": [
      "The item with the most calories on McDonalds' menu is Chicken McNuggets (40 piece) with 1880 calories\n",
      "The item with the most calories on Burger King's menu is TRIPLE WHOPPER® Sandwich with Cheese with 1220.0 calories\n",
      "The item with the most calories on Taco Bell's menu is Cinnabon® Delights™ (12 Pack - Serves 4) (V) with 930.0 calories\n",
      "The item with the most calories on Wendy's menu is Dave's Triple Cheeseburger with 1060.0 calories\n",
      "The item with the most calories on Panera Bread's menu is Dozen Mixed Cookies with 4850.0 calories\n"
     ]
    }
   ],
   "source": [
    "#Which item has the most calories?\n",
    "def max_item(menu):\n",
    "    max_calorie = max(menu)\n",
    "    return max_calorie\n",
    "\n",
    "biggest_itemM = McDonalds_Menu.loc[McDonalds_Menu['Calories'] == max_item(McDonalds_Calories), 'Item']\n",
    "biggest_itemBK = BurgerKing_Menu.loc[BurgerKing_Menu['Calories'] == max_item(BurgerKing_Calories), 'Item']\n",
    "biggest_itemTB = TacoBell_Menu.loc[TacoBell_Menu['Calories'] == max_item(TacoBell_Calories), 'Item']\n",
    "biggest_itemW = Wendys_Menu.loc[Wendys_Menu['Calories'] == max_item(Wendys_Calories), 'Item']\n",
    "biggest_itemPB = PaneraBread_Menu.loc[PaneraBread_Menu['Calories'] == max_item(PaneraBread_Calories), 'Item']\n",
    "\n",
    "biggest_itemTB = biggest_itemTB.tail(1)\n",
    "\n",
    "print(\"The item with the most calories on McDonalds' menu is\", (biggest_itemM.str.cat(sep='\\n')), \"with\", max_item(McDonalds_Calories), \"calories\")\n",
    "print(\"The item with the most calories on Burger King's menu is\", (biggest_itemBK.str.cat(sep='\\n')), \"with\", max_item(BurgerKing_Calories), \"calories\")\n",
    "print(\"The item with the most calories on Taco Bell's menu is\", (biggest_itemTB.str.cat(sep='\\n')), \"with\", max_item(TacoBell_Calories), \"calories\")\n",
    "print(\"The item with the most calories on Wendy's menu is\", (biggest_itemW.str.cat(sep='\\n')), \"with\", max_item(Wendys_Calories), \"calories\")\n",
    "print(\"The item with the most calories on Panera Bread's menu is\", (biggest_itemPB.str.cat(sep='\\n')), \"with\", max_item(PaneraBread_Calories), \"calories\")"
   ]
  },
  {
   "cell_type": "code",
   "execution_count": 109,
   "id": "981e28da",
   "metadata": {},
   "outputs": [
    {
     "name": "stdout",
     "output_type": "stream",
     "text": [
      "The items with the least calories on McDonalds' menu is Coffee (Large) with 0 calories\n",
      "The items with the least calories on Burger King's menu is BK® Café Decaf Coffee- 20 fl oz with 0.0 calories\n",
      "The items with the least calories on Taco Bell's menu is Pepsi® Zero Sugar (30 fl oz) with 0.0 calories\n",
      "The items with the least calories on Wendy's menu is Redhead Roasters Hot Coffee, Regular with 0.0 calories\n",
      "The items with the least calories on Panera Bread's menu is Sprite Zero - 20 fl oz bottle with 0.0 calories\n"
     ]
    }
   ],
   "source": [
    "#Which item has the least calories?\n",
    "def min_item(menu):\n",
    "    min_calorie = min(menu)\n",
    "    return min_calorie\n",
    "\n",
    "smallest_itemM = McDonalds_Menu.loc[McDonalds_Menu['Calories'] == min_item(McDonalds_Calories), 'Item']\n",
    "smallest_itemBK = BurgerKing_Menu.loc[BurgerKing_Menu['Calories'] == min_item(BurgerKing_Calories), 'Item']\n",
    "smallest_itemTB = TacoBell_Menu.loc[TacoBell_Menu['Calories'] == min_item(TacoBell_Calories), 'Item']\n",
    "smallest_itemW = Wendys_Menu.loc[Wendys_Menu['Calories'] == min_item(Wendys_Calories), 'Item']\n",
    "smallest_itemPB = PaneraBread_Menu.loc[PaneraBread_Menu['Calories'] == min_item(PaneraBread_Calories), 'Item']\n",
    "\n",
    "smallest_itemM = smallest_itemM.tail(1)\n",
    "smallest_itemBK = smallest_itemBK.tail(1)\n",
    "smallest_itemTB = smallest_itemTB.tail(1)\n",
    "smallest_itemW = smallest_itemW.tail(1)\n",
    "smallest_itemPB = smallest_itemPB.tail(1)\n",
    "\n",
    "print(\"The items with the least calories on McDonalds' menu is\", (smallest_itemM.str.cat(sep='\\n')), \"with\", min_item(McDonalds_Calories), \"calories\")\n",
    "print(\"The items with the least calories on Burger King's menu is\", (smallest_itemBK.str.cat(sep='\\n')), \"with\", min_item(BurgerKing_Calories), \"calories\")\n",
    "print(\"The items with the least calories on Taco Bell's menu is\", (smallest_itemTB.str.cat(sep='\\n')), \"with\", min_item(TacoBell_Calories), \"calories\")\n",
    "print(\"The items with the least calories on Wendy's menu is\", (smallest_itemW.str.cat(sep='\\n')), \"with\", min_item(Wendys_Calories), \"calories\")\n",
    "print(\"The items with the least calories on Panera Bread's menu is\", (smallest_itemPB.str.cat(sep='\\n')), \"with\", min_item(PaneraBread_Calories), \"calories\")"
   ]
  },
  {
   "cell_type": "code",
   "execution_count": 110,
   "id": "16f93cd9",
   "metadata": {},
   "outputs": [
    {
     "name": "stdout",
     "output_type": "stream",
     "text": [
      "Average calories of McDonalds' menu is 368.27\n",
      "Average calories of Burger King's menu is 361.82\n",
      "Average calories of Taco Bell's menu is 230.39\n",
      "Average calories of Wendy's menu is 252.93\n",
      "Average calories of Panera Bread's menu is 268.71\n"
     ]
    }
   ],
   "source": [
    "#Average calories in each menu, with and without catering\n",
    "def average(menu):\n",
    "    avg = sum(menu)/len(menu)\n",
    "    return round(avg, 2)\n",
    "\n",
    "avg_calories = {'McDonalds':average(McDonalds_Calories), 'Burger King':average(BurgerKing_Calories), 'Taco Bell':average(TacoBell_Calories), 'Wendys':average(Wendys_Calories), 'Panera Bread':average(PaneraBread_Calories)}\n",
    "Menus = list(avg_calories.keys())\n",
    "Calories = list(avg_calories.values())\n",
    "\n",
    "print(\"Average calories of McDonalds' menu is\", round(average(McDonalds_Calories),2))\n",
    "print(\"Average calories of Burger King's menu is\", round(average(BurgerKing_Calories),2))\n",
    "print(\"Average calories of Taco Bell's menu is\", round(average(TacoBell_Calories),2))\n",
    "print(\"Average calories of Wendy's menu is\", round(average(Wendys_Calories),2))\n",
    "print(\"Average calories of Panera Bread's menu is\", round(average(PaneraBread_Calories),2))"
   ]
  },
  {
   "cell_type": "code",
   "execution_count": 111,
   "id": "4935c5c8",
   "metadata": {},
   "outputs": [
    {
     "data": {
      "image/png": "[encoded data removed]",
      "text/plain": [
       "<Figure size 864x432 with 1 Axes>"
      ]
     },
     "metadata": {},
     "output_type": "display_data"
    }
   ],
   "source": [
    "#Plot average calories\n",
    "plt.figure(figsize = (12,6))\n",
    "ec = ['red', 'mediumblue', 'rebeccapurple', 'skyblue', 'olive']\n",
    "plt.bar(Menus, Calories, width=0.5, color = ['gold', 'orangered', 'gainsboro', 'firebrick', 'khaki'], edgecolor = ec, linewidth=20.0)\n",
    "plt.xlabel('Restaurant')\n",
    "plt.ylabel('Calories')\n",
    "plt.title('Average Calories')\n",
    "plt.show()"
   ]
  },
  {
   "cell_type": "code",
   "execution_count": 112,
   "id": "a2c2ce98",
   "metadata": {},
   "outputs": [],
   "source": [
    "def menu_macros(menu):\n",
    "    total = sum(menu)\n",
    "    return total\n",
    "\n",
    "def percentage(part, whole):\n",
    "    percentage = 100 * float(part)/float(whole)\n",
    "    return str(round(percentage, 1))\n",
    "\n",
    "McD_Fat = percentage(menu_macros(McDonalds_Fat), (menu_macros(McDonalds_Fat)) + (menu_macros(McDonalds_Carbs)) + (menu_macros(McDonalds_Protein)))\n",
    "McD_Carbs = percentage(menu_macros(McDonalds_Carbs), (menu_macros(McDonalds_Fat)) + (menu_macros(McDonalds_Carbs)) + (menu_macros(McDonalds_Protein)))\n",
    "McD_Protein = percentage(menu_macros(McDonalds_Protein), (menu_macros(McDonalds_Fat)) + (menu_macros(McDonalds_Carbs)) + (menu_macros(McDonalds_Protein)))\n",
    "\n",
    "BK_Fat = percentage(menu_macros(BurgerKing_Fat), (menu_macros(BurgerKing_Fat)) + (menu_macros(BurgerKing_Carbs)) + (menu_macros(BurgerKing_Protein)))\n",
    "BK_Carbs = percentage(menu_macros(BurgerKing_Carbs), (menu_macros(BurgerKing_Fat)) + (menu_macros(BurgerKing_Carbs)) + (menu_macros(BurgerKing_Protein)))\n",
    "BK_Protein = percentage(menu_macros(BurgerKing_Protein), (menu_macros(BurgerKing_Fat)) + (menu_macros(BurgerKing_Carbs)) + (menu_macros(BurgerKing_Protein)))\n",
    "\n",
    "TB_Fat = percentage(menu_macros(TacoBell_Fat), (menu_macros(TacoBell_Fat)) + (menu_macros(TacoBell_Carbs)) + (menu_macros(TacoBell_Protein)))\n",
    "TB_Carbs = percentage(menu_macros(TacoBell_Carbs), (menu_macros(TacoBell_Fat)) + (menu_macros(TacoBell_Carbs)) + (menu_macros(TacoBell_Protein)))\n",
    "TB_Protein = percentage(menu_macros(TacoBell_Protein), (menu_macros(TacoBell_Fat)) + (menu_macros(TacoBell_Carbs)) + (menu_macros(TacoBell_Protein)))\n",
    "\n",
    "W_Fat = percentage(menu_macros(Wendys_Fat), (menu_macros(Wendys_Fat)) + (menu_macros(Wendys_Carbs)) + (menu_macros(Wendys_Protein)))\n",
    "W_Carbs = percentage(menu_macros(Wendys_Carbs), (menu_macros(Wendys_Fat)) + (menu_macros(Wendys_Carbs)) + (menu_macros(Wendys_Protein)))\n",
    "W_Protein = percentage(menu_macros(Wendys_Protein), (menu_macros(Wendys_Fat)) + (menu_macros(Wendys_Carbs)) + (menu_macros(Wendys_Protein)))\n",
    "\n",
    "PB_Fat = percentage(menu_macros(PaneraBread_Fat), (menu_macros(PaneraBread_Fat)) + (menu_macros(PaneraBread_Carbs)) + (menu_macros(PaneraBread_Protein)))\n",
    "PB_Carbs = percentage(menu_macros(PaneraBread_Carbs), (menu_macros(PaneraBread_Fat)) + (menu_macros(PaneraBread_Carbs)) + (menu_macros(PaneraBread_Protein)))\n",
    "PB_Protein = percentage(menu_macros(PaneraBread_Protein), (menu_macros(PaneraBread_Fat)) + (menu_macros(PaneraBread_Carbs)) + (menu_macros(PaneraBread_Protein)))"
   ]
  },
  {
   "cell_type": "code",
   "execution_count": 113,
   "id": "0fcd4ac4",
   "metadata": {},
   "outputs": [],
   "source": [
    "def menu_macros(menu):\n",
    "    total = sum(menu)\n",
    "    return total\n",
    "\n",
    "McD_Fat = menu_macros(McDonalds_Fat)\n",
    "McD_Carbs = menu_macros(McDonalds_Carbs)\n",
    "McD_Protein = menu_macros(McDonalds_Protein)\n",
    "\n",
    "BK_Fat = menu_macros(BurgerKing_Fat)\n",
    "BK_Carbs = menu_macros(BurgerKing_Carbs)\n",
    "BK_Protein = menu_macros(BurgerKing_Protein)\n",
    "\n",
    "TB_Fat = menu_macros(TacoBell_Fat)\n",
    "TB_Carbs = menu_macros(TacoBell_Carbs)\n",
    "TB_Protein = menu_macros(TacoBell_Protein)\n",
    "\n",
    "W_Fat = menu_macros(Wendys_Fat)\n",
    "W_Carbs = menu_macros(Wendys_Carbs)\n",
    "W_Protein = menu_macros(Wendys_Protein)\n",
    "\n",
    "PB_Fat = menu_macros(PaneraBread_Fat)\n",
    "PB_Carbs = menu_macros(PaneraBread_Carbs)\n",
    "PB_Protein = menu_macros(PaneraBread_Protein)"
   ]
  },
  {
   "cell_type": "code",
   "execution_count": 119,
   "id": "b507875c",
   "metadata": {},
   "outputs": [
    {
     "ename": "AttributeError",
     "evalue": "module 'pandas' has no attribute 'Dataframe'",
     "output_type": "error",
     "traceback": [
      "\u001b[1;31m---------------------------------------------------------------------------\u001b[0m",
      "\u001b[1;31mAttributeError\u001b[0m                            Traceback (most recent call last)",
      "\u001b[1;32m~\\AppData\\Local\\Temp/ipykernel_62832/196436249.py\u001b[0m in \u001b[0;36m<module>\u001b[1;34m\u001b[0m\n\u001b[0;32m      1\u001b[0m \u001b[0mr\u001b[0m \u001b[1;33m=\u001b[0m \u001b[1;33m[\u001b[0m\u001b[1;36m0\u001b[0m\u001b[1;33m,\u001b[0m\u001b[1;36m1\u001b[0m\u001b[1;33m,\u001b[0m\u001b[1;36m2\u001b[0m\u001b[1;33m,\u001b[0m\u001b[1;36m3\u001b[0m\u001b[1;33m,\u001b[0m\u001b[1;36m4\u001b[0m\u001b[1;33m]\u001b[0m\u001b[1;33m\u001b[0m\u001b[1;33m\u001b[0m\u001b[0m\n\u001b[0;32m      2\u001b[0m \u001b[0mmenus\u001b[0m \u001b[1;33m=\u001b[0m \u001b[1;33m{\u001b[0m\u001b[1;34m'greenBars'\u001b[0m\u001b[1;33m:\u001b[0m\u001b[1;33m[\u001b[0m\u001b[0mMcD_Fat\u001b[0m\u001b[1;33m,\u001b[0m \u001b[0mBK_Fat\u001b[0m\u001b[1;33m,\u001b[0m \u001b[0mTB_Fat\u001b[0m\u001b[1;33m,\u001b[0m \u001b[0mW_Fat\u001b[0m\u001b[1;33m,\u001b[0m \u001b[0mPB_Fat\u001b[0m\u001b[1;33m]\u001b[0m\u001b[1;33m,\u001b[0m \u001b[1;34m'orangeBars'\u001b[0m\u001b[1;33m:\u001b[0m\u001b[1;33m[\u001b[0m\u001b[0mMcD_Carbs\u001b[0m\u001b[1;33m,\u001b[0m \u001b[0mBK_Carbs\u001b[0m\u001b[1;33m,\u001b[0m \u001b[0mTB_Carbs\u001b[0m\u001b[1;33m,\u001b[0m \u001b[0mW_Carbs\u001b[0m\u001b[1;33m,\u001b[0m \u001b[0mPB_Carbs\u001b[0m\u001b[1;33m]\u001b[0m\u001b[1;33m,\u001b[0m \u001b[1;34m'blueBars'\u001b[0m\u001b[1;33m:\u001b[0m\u001b[1;33m[\u001b[0m\u001b[0mMcD_Protein\u001b[0m\u001b[1;33m,\u001b[0m \u001b[0mBK_Protein\u001b[0m\u001b[1;33m,\u001b[0m \u001b[0mTB_Protein\u001b[0m\u001b[1;33m,\u001b[0m \u001b[0mW_Protein\u001b[0m\u001b[1;33m,\u001b[0m \u001b[0mPB_Protein\u001b[0m\u001b[1;33m]\u001b[0m\u001b[1;33m}\u001b[0m\u001b[1;33m\u001b[0m\u001b[1;33m\u001b[0m\u001b[0m\n\u001b[1;32m----> 3\u001b[1;33m \u001b[0mdf\u001b[0m \u001b[1;33m=\u001b[0m \u001b[0mpd\u001b[0m\u001b[1;33m.\u001b[0m\u001b[0mDataframe\u001b[0m\u001b[1;33m(\u001b[0m\u001b[0mmenus\u001b[0m\u001b[1;33m)\u001b[0m\u001b[1;33m\u001b[0m\u001b[1;33m\u001b[0m\u001b[0m\n\u001b[0m\u001b[0;32m      4\u001b[0m \u001b[1;33m\u001b[0m\u001b[0m\n\u001b[0;32m      5\u001b[0m \u001b[0mtotals\u001b[0m \u001b[1;33m=\u001b[0m \u001b[1;33m[\u001b[0m\u001b[0mi\u001b[0m\u001b[1;33m+\u001b[0m\u001b[0mj\u001b[0m\u001b[1;33m+\u001b[0m\u001b[0mk\u001b[0m \u001b[1;32mfor\u001b[0m \u001b[0mi\u001b[0m\u001b[1;33m,\u001b[0m\u001b[0mj\u001b[0m\u001b[1;33m,\u001b[0m\u001b[0mk\u001b[0m \u001b[1;32min\u001b[0m \u001b[0mzip\u001b[0m\u001b[1;33m(\u001b[0m\u001b[0mdf\u001b[0m\u001b[1;33m[\u001b[0m\u001b[1;34m'greenBars'\u001b[0m\u001b[1;33m]\u001b[0m\u001b[1;33m,\u001b[0m \u001b[0mdf\u001b[0m\u001b[1;33m[\u001b[0m\u001b[1;34m'orangeBars'\u001b[0m\u001b[1;33m]\u001b[0m\u001b[1;33m,\u001b[0m \u001b[0mdf\u001b[0m\u001b[1;33m[\u001b[0m\u001b[1;34m'blueBars'\u001b[0m\u001b[1;33m]\u001b[0m\u001b[1;33m)\u001b[0m\u001b[1;33m]\u001b[0m\u001b[1;33m\u001b[0m\u001b[1;33m\u001b[0m\u001b[0m\n",
      "\u001b[1;32m~\\anaconda3\\lib\\site-packages\\pandas\\__init__.py\u001b[0m in \u001b[0;36m__getattr__\u001b[1;34m(name)\u001b[0m\n\u001b[0;32m    242\u001b[0m         \u001b[1;32mreturn\u001b[0m \u001b[0m_SparseArray\u001b[0m\u001b[1;33m\u001b[0m\u001b[1;33m\u001b[0m\u001b[0m\n\u001b[0;32m    243\u001b[0m \u001b[1;33m\u001b[0m\u001b[0m\n\u001b[1;32m--> 244\u001b[1;33m     \u001b[1;32mraise\u001b[0m \u001b[0mAttributeError\u001b[0m\u001b[1;33m(\u001b[0m\u001b[1;34mf\"module 'pandas' has no attribute '{name}'\"\u001b[0m\u001b[1;33m)\u001b[0m\u001b[1;33m\u001b[0m\u001b[1;33m\u001b[0m\u001b[0m\n\u001b[0m\u001b[0;32m    245\u001b[0m \u001b[1;33m\u001b[0m\u001b[0m\n\u001b[0;32m    246\u001b[0m \u001b[1;33m\u001b[0m\u001b[0m\n",
      "\u001b[1;31mAttributeError\u001b[0m: module 'pandas' has no attribute 'Dataframe'"
     ]
    }
   ],
   "source": [
    "r = [0,1,2,3,4]\n",
    "menus = {'greenBars':[McD_Fat, BK_Fat, TB_Fat, W_Fat, PB_Fat], 'orangeBars':[McD_Carbs, BK_Carbs, TB_Carbs, W_Carbs, PB_Carbs], 'blueBars':[McD_Protein, BK_Protein, TB_Protein, W_Protein, PB_Protein]}\n",
    "df = pd.Dataframe(menus)\n",
    "\n",
    "totals = [i+j+k for i,j,k in zip(df['greenBars'], df['orangeBars'], df['blueBars'])]\n",
    "greenBars = [i / j * 100 for i,j in zip(df['greenBars'], totals)]\n",
    "orangeBars = [i / j * 100 for i,j in zip(df['orangeBars'], totals)]\n",
    "blueBars = [i / j * 100 for i,j in zip(df['blueBars'], totals)]\n",
    "\n",
    "\n",
    "names = ('McDonalds','BurgerKing','Taco Bell','Wendys','Panera Bread')\n",
    "\n",
    "plt.figure(figsize = (15,8))\n",
    "barWidth = 0.85\n",
    "# Create green Bars\n",
    "plt.bar(r, greenBars, color='#b5ffb9', edgecolor='white', width=barWidth)\n",
    "# Create orange Bars\n",
    "plt.bar(r, orangeBars, bottom=greenBars, color='#f9bc86', edgecolor='white', width=barWidth)\n",
    "# Create blue Bars\n",
    "plt.bar(r, blueBars, bottom=[i+j for i,j in zip(greenBars, orangeBars)], color='#a3acff', edgecolor='white', width=barWidth)\n",
    " \n",
    "# Custom x axis\n",
    "plt.xticks(r, names)\n",
    "plt.xlabel(\"group\")\n",
    " \n",
    "# Show graphic\n",
    "plt.show()"
   ]
  }
 ],
 "metadata": {
  "kernelspec": {
   "display_name": "Python 3 (ipykernel)",
   "language": "python",
   "name": "python3"
  },
  "language_info": {
   "codemirror_mode": {
    "name": "ipython",
    "version": 3
   },
   "file_extension": ".py",
   "mimetype": "text/x-python",
   "name": "python",
   "nbconvert_exporter": "python",
   "pygments_lexer": "ipython3",
   "version": "3.9.7"
  },
  "vscode": {
   "interpreter": {
    "hash": "87ae2aaed6170a3d35ef6f73590cb799329ab5be2267d61d0b68ab721475db9a"
   }
  }
 },
 "nbformat": 4,
 "nbformat_minor": 5
}
