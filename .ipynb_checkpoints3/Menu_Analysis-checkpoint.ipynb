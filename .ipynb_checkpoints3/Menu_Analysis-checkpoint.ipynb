{
 "cells": [
  {
   "cell_type": "markdown",
   "id": "1e1b16ba",
   "metadata": {},
   "source": [
    "<h4>Import necessary packages</h4>"
   ]
  },
  {
   "cell_type": "code",
   "execution_count": 1,
   "id": "12a4826e",
   "metadata": {},
   "outputs": [],
   "source": [
    "import matplotlib.pyplot as plt\n",
    "import pandas as pd\n",
    "import numpy as np\n",
    "import os"
   ]
  },
  {
   "cell_type": "markdown",
   "id": "3d9fac15",
   "metadata": {},
   "source": [
    "<h4> Read in data </h4>"
   ]
  },
  {
   "cell_type": "code",
   "execution_count": 2,
   "id": "a19b2b4e",
   "metadata": {},
   "outputs": [],
   "source": [
    "McDonalds_Menu = pd.read_csv(os.path.join('Data_Sets', 'McDonalds_Menu.csv'))\n",
    "BurgerKing_Menu = pd.read_csv(os.path.join('Data_Sets', 'BurgerKing_Menu.csv'))\n",
    "TacoBell_Menu = pd.read_csv(os.path.join('Data_Sets', 'TacoBell_Menu.csv'))\n",
    "Wendys_Menu = pd.read_csv(os.path.join('Data_Sets', 'Wendys_Menu.csv'))\n",
    "PaneraBread_Menu = pd.read_csv(os.path.join('Data_Sets', 'PaneraBread_Menu.csv'))"
   ]
  },
  {
   "cell_type": "markdown",
   "id": "ab5cce80",
   "metadata": {},
   "source": [
    "<h4> Remove catering </h4>\n",
    "Panera Bread was the only menu that included catering"
   ]
  },
  {
   "cell_type": "code",
   "execution_count": 3,
   "id": "51f40e42",
   "metadata": {},
   "outputs": [],
   "source": [
    "PaneraBread_Menu = PaneraBread_Menu.iloc[:-81]"
   ]
  },
  {
   "cell_type": "markdown",
   "id": "72aa76d5",
   "metadata": {},
   "source": [
    "<h4> Creating variables </h4>\n",
    "Created variables for the calories, carbohydrates, fat, and protein of each menu"
   ]
  },
  {
   "cell_type": "code",
   "execution_count": 4,
   "id": "da9d2dab",
   "metadata": {},
   "outputs": [],
   "source": [
    "McDonalds_Calories = McDonalds_Menu['Calories']\n",
    "BurgerKing_Calories = BurgerKing_Menu['Calories']\n",
    "TacoBell_Calories = TacoBell_Menu['Calories']\n",
    "Wendys_Calories = Wendys_Menu['Calories']\n",
    "PaneraBread_Calories = PaneraBread_Menu['Calories']\n",
    "\n",
    "McDonalds_Carbs = McDonalds_Menu[\"Carbohydrates\"]\n",
    "BurgerKing_Carbs = BurgerKing_Menu[\"Total Carb (g)\"]\n",
    "TacoBell_Carbs = TacoBell_Menu[\"Total Carbohydrates (g)\"]\n",
    "Wendys_Carbs = Wendys_Menu[\"Carbohydrates\"]\n",
    "PaneraBread_Carbs = PaneraBread_Menu[\"Carbohydrates (g)\"]\n",
    "\n",
    "McDonalds_Fat = McDonalds_Menu[\"Total Fat\"]\n",
    "BurgerKing_Fat = BurgerKing_Menu[\"Total fat (g)\"]\n",
    "TacoBell_Fat = TacoBell_Menu[\"Total Fat (g)\"]\n",
    "Wendys_Fat = Wendys_Menu[\"Fat\"]\n",
    "PaneraBread_Fat = PaneraBread_Menu[\"Fat (g)\"]\n",
    "\n",
    "McDonalds_Protein = McDonalds_Menu[\"Protein\"]\n",
    "BurgerKing_Protein = BurgerKing_Menu[\"Protein (g)\"]\n",
    "TacoBell_Protein = TacoBell_Menu[\"Protein (g)\"]\n",
    "Wendys_Protein = Wendys_Menu[\"Protein\"]\n",
    "PaneraBread_Protein = PaneraBread_Menu[\"Protein (g)\"]"
   ]
  },
  {
   "cell_type": "markdown",
   "id": "2e53f445",
   "metadata": {},
   "source": [
    "<h4> Remove NaN by column </h4>\n",
    "Cannot use .dropna() on the menu as a whole, due to other nutritional values missing from various items (calories from fat, etc.)"
   ]
  },
  {
   "cell_type": "code",
   "execution_count": 5,
   "id": "844bd159",
   "metadata": {},
   "outputs": [],
   "source": [
    "McDonalds_Calories = McDonalds_Calories.dropna()\n",
    "BurgerKing_Calories = BurgerKing_Calories.dropna()\n",
    "TacoBell_Calories = TacoBell_Calories.dropna()\n",
    "Wendys_Calories = Wendys_Calories.dropna()\n",
    "PaneraBread_Calories = PaneraBread_Calories.dropna()\n",
    "\n",
    "McDonalds_Carbs = McDonalds_Carbs.dropna()\n",
    "BurgerKing_Carbs = BurgerKing_Carbs.dropna()\n",
    "TacoBell_Carbs = TacoBell_Carbs.dropna()\n",
    "Wendys_Carbs = Wendys_Carbs.dropna()\n",
    "PaneraBread_Carbs = PaneraBread_Carbs.dropna()\n",
    "\n",
    "McDonalds_Fat = McDonalds_Fat.dropna()\n",
    "BurgerKing_Fat = BurgerKing_Fat.dropna()\n",
    "TacoBell_Fat = TacoBell_Fat.dropna()\n",
    "Wendys_Fat = Wendys_Fat.dropna()\n",
    "PaneraBread_Fat = PaneraBread_Fat.dropna()\n",
    "\n",
    "McDonalds_Protein = McDonalds_Protein.dropna()\n",
    "BurgerKing_Protein = BurgerKing_Protein.dropna()\n",
    "TacoBell_Protein = TacoBell_Protein.dropna()\n",
    "Wendys_Protein = Wendys_Protein.dropna()\n",
    "PaneraBread_Protein = PaneraBread_Protein.dropna()"
   ]
  },
  {
   "cell_type": "markdown",
   "id": "f92fef47",
   "metadata": {},
   "source": [
    "<h4> Remove symbols from columns </h4>\n",
    "Removed '<' from three columns"
   ]
  },
  {
   "cell_type": "code",
   "execution_count": 6,
   "id": "85f1e54f",
   "metadata": {},
   "outputs": [],
   "source": [
    "BurgerKing_Carbs = BurgerKing_Carbs.replace('\\<', '', regex=True).astype(float)\n",
    "TacoBell_Carbs = TacoBell_Carbs.replace('\\<', '', regex=True).astype(float)\n",
    "TacoBell_Protein = TacoBell_Protein.replace('\\<', '', regex=True).astype(float)"
   ]
  },
  {
   "cell_type": "markdown",
   "id": "17756982",
   "metadata": {},
   "source": [
    "<h4> Finding how many items are on each menu </h4>"
   ]
  },
  {
   "cell_type": "code",
   "execution_count": 7,
   "id": "4e9dd41d",
   "metadata": {
    "scrolled": true
   },
   "outputs": [
    {
     "name": "stdout",
     "output_type": "stream",
     "text": [
      "McDonalds has 260 total items\n",
      "Burger King has 179 total items\n",
      "Taco Bell has 437 total items\n",
      "Wendys has 140 total items\n",
      "Panera Bread has 488 total items\n"
     ]
    }
   ],
   "source": [
    "def menu_total(restaurant, menu):\n",
    "    length = len(menu)\n",
    "    return print(f'{restaurant} has {length} total items')\n",
    "\n",
    "menu_items = [\n",
    "    ['McDonalds', McDonalds_Calories],\n",
    "    ['Burger King', BurgerKing_Calories],\n",
    "    ['Taco Bell', TacoBell_Calories],\n",
    "    ['Wendys', Wendys_Calories],\n",
    "    ['Panera Bread', PaneraBread_Menu]\n",
    "]\n",
    "\n",
    "for entry in menu_items:\n",
    "    menu_total(entry[0], entry[1])"
   ]
  },
  {
   "cell_type": "markdown",
   "id": "5b984f53",
   "metadata": {},
   "source": [
    "<h4> Finding the item with the highest calorie on each menu </h4>"
   ]
  },
  {
   "cell_type": "code",
   "execution_count": 8,
   "id": "51564e13",
   "metadata": {},
   "outputs": [
    {
     "name": "stdout",
     "output_type": "stream",
     "text": [
      "Chicken McNuggets (40 piece) has the highest calories at 1880\n",
      "TRIPLE WHOPPER® Sandwich with Cheese has the highest calories at 1220.0\n",
      "Cinnabon® Delights™ (12 Pk - Serves 4) (V) has the highest calories at 930.0\n",
      "Dave's Triple Cheeseburger has the highest calories at 1060.0\n",
      "Dozen Mixed Cookies has the highest calories at 4850.0\n"
     ]
    }
   ],
   "source": [
    "def find_high_cal(calorie_col, menu):\n",
    "    highest_cal_count = calorie_col.max()\n",
    "    highest_cal_name = menu.loc[menu['Calories'] == highest_cal_count, 'Item'].iloc[0]\n",
    "    return print(f'{highest_cal_name} has the highest calories at {highest_cal_count}')\n",
    "\n",
    "cal_items = [\n",
    "    [McDonalds_Calories, McDonalds_Menu],\n",
    "    [BurgerKing_Calories, BurgerKing_Menu],\n",
    "    [TacoBell_Calories, TacoBell_Menu],\n",
    "    [Wendys_Calories, Wendys_Menu],\n",
    "    [PaneraBread_Calories, PaneraBread_Menu]\n",
    "]\n",
    "\n",
    "for entry in cal_items:\n",
    "    find_high_cal(entry[0], entry[1])"
   ]
  },
  {
   "cell_type": "markdown",
   "id": "029e792a",
   "metadata": {},
   "source": [
    "<h4> Finding the item with the lowest calorie on each menu </h4>"
   ]
  },
  {
   "cell_type": "code",
   "execution_count": 9,
   "id": "ace0bcc4",
   "metadata": {},
   "outputs": [
    {
     "name": "stdout",
     "output_type": "stream",
     "text": [
      "Diet Coke (Small) has the lowest calories at 0\n",
      "Diet Coke has the lowest calories at 0.0\n",
      "Diablo Sauce Packet (V) has the lowest calories at 0.0\n",
      "Coke Zero Small Cup has the lowest calories at 0.0\n",
      "AHA Blueberry Pomegranate Sparkling Water- 12 fl oz can has the lowest calories at 0.0\n"
     ]
    }
   ],
   "source": [
    "def find_low_cal(calorie_col, menu):\n",
    "    lowest_cal_count = calorie_col.min()\n",
    "    lowest_cal_name = menu.loc[menu['Calories'] == lowest_cal_count, 'Item'].iloc[0]\n",
    "    return print(f'{lowest_cal_name} has the lowest calories at {lowest_cal_count}')\n",
    "\n",
    "cal_items = [\n",
    "    [McDonalds_Calories, McDonalds_Menu],\n",
    "    [BurgerKing_Calories, BurgerKing_Menu],\n",
    "    [TacoBell_Calories, TacoBell_Menu],\n",
    "    [Wendys_Calories, Wendys_Menu],\n",
    "    [PaneraBread_Calories, PaneraBread_Menu]\n",
    "]\n",
    "\n",
    "for entry in cal_items:\n",
    "    find_low_cal(entry[0], entry[1])"
   ]
  },
  {
   "cell_type": "markdown",
   "id": "be040838",
   "metadata": {},
   "source": [
    "<h4> Finding the average calories of each menu </h4>"
   ]
  },
  {
   "cell_type": "code",
   "execution_count": 10,
   "id": "16f93cd9",
   "metadata": {
    "scrolled": true
   },
   "outputs": [
    {
     "name": "stdout",
     "output_type": "stream",
     "text": [
      "Average calories of McDonalds is 368.27\n",
      "Average calories of Burger King is 361.82\n",
      "Average calories of Taco Bell is 230.39\n",
      "Average calories of Wendys is 252.93\n",
      "Average calories of Panera Bread is 268.71\n"
     ]
    }
   ],
   "source": [
    "def average(restaurant, menu):\n",
    "    avg = sum(menu)/len(menu)\n",
    "    avg = round(avg, 2)\n",
    "    return print(f'Average calories of {restaurant} is {avg}')\n",
    "\n",
    "avg_cal = [\n",
    "    ['McDonalds', McDonalds_Calories],\n",
    "    ['Burger King', BurgerKing_Calories],\n",
    "    ['Taco Bell', TacoBell_Calories],\n",
    "    ['Wendys', Wendys_Calories],\n",
    "    ['Panera Bread', PaneraBread_Calories]\n",
    "]\n",
    "\n",
    "for entry in avg_cal:\n",
    "    average(entry[0], entry[1])"
   ]
  },
  {
   "cell_type": "markdown",
   "id": "a6779962",
   "metadata": {},
   "source": [
    "<h4> Plotting average calories </h4>\n",
    "Began by creating keys/values for each menu's name and average calorie. I then used the keys/values to plot the graph below.\n",
    "The graph below shows the average calories of four perceived 'unhealthy' restaurants in comparison to one perceived 'healthy' restaurant. The 'healthy' restaurant (Panera Bread) actually has a higher average calorie count than two 'unhealthy' restaurants (Taco Bell and Wendys). If one was deciding on a restaurant by calorie count alone, the perceived 'healthy' restaurant would not be the best choice."
   ]
  },
  {
   "cell_type": "code",
   "execution_count": 11,
   "id": "4935c5c8",
   "metadata": {},
   "outputs": [
    {
     "data": {
      "image/png": "[encoded data removed]",
      "text/plain": [
       "<Figure size 864x432 with 1 Axes>"
      ]
     },
     "metadata": {
      "needs_background": "light"
     },
     "output_type": "display_data"
    }
   ],
   "source": [
    "def average(menu):\n",
    "    avg = sum(menu)/len(menu)\n",
    "    return round(avg, 2)\n",
    "\n",
    "avg_calories = {'McDonalds':average(McDonalds_Calories), \n",
    "                'Burger King':average(BurgerKing_Calories), \n",
    "                'Taco Bell':average(TacoBell_Calories), \n",
    "                'Wendys':average(Wendys_Calories), \n",
    "                'Panera Bread':average(PaneraBread_Calories)}\n",
    "Menus = list(avg_calories.keys())\n",
    "Calories = list(avg_calories.values())\n",
    "\n",
    "plt.figure(figsize = (12,6))\n",
    "ec = ['red', 'mediumblue', 'rebeccapurple', 'skyblue', 'olive']\n",
    "plt.bar(Menus, Calories, width=0.5, color = ['gold', 'orangered', 'gainsboro', 'firebrick', 'khaki'], \n",
    "        edgecolor = ec, linewidth=15.0, zorder=2)\n",
    "plt.xlabel('Restaurant', fontsize=15)\n",
    "plt.ylabel('Calories', fontsize=15)\n",
    "plt.title('Average Calories', fontsize=25)\n",
    "plt.grid()\n",
    "plt.show()"
   ]
  },
  {
   "cell_type": "markdown",
   "id": "dd65a75b",
   "metadata": {},
   "source": [
    "<h4> Finding the sum of each macronutrients for each menu </h4>\n",
    "Finding the sum of fats, carbohydrates, and proteins from each menu."
   ]
  },
  {
   "cell_type": "code",
   "execution_count": 12,
   "id": "a2c2ce98",
   "metadata": {},
   "outputs": [
    {
     "name": "stdout",
     "output_type": "stream",
     "text": [
      "The total grams of fat for McDonalds is 3683.0\n",
      "The total grams of fat for Burger King is 2966.5\n",
      "The total grams of fat for Taco Bell is 2266.0\n",
      "The total grams of fat for Wendys is 1537.0\n",
      "The total grams of fat for Panera Bread is 4181.5\n",
      "The total grams of carbohydrates for McDonalds is 12310\n",
      "The total grams of carbohydrates for Burger King is 7904.0\n",
      "The total grams of carbohydrates for Taco Bell is 12147.0\n",
      "The total grams of carbohydrates for Wendys is 12331.0\n",
      "The total grams of carbohydrates for Panera Bread is 17998.0\n",
      "The total grams of protein for McDonalds is 3468\n",
      "The total grams of protein for Burger King is 1940.0\n",
      "The total grams of protein for Taco Bell is 1764.0\n",
      "The total grams of protein for Wendys is 1431.0\n",
      "The total grams of protein for Panera Bread is 3656.0\n"
     ]
    }
   ],
   "source": [
    "def menu_macros(macro, restaurant, menu):\n",
    "    total = sum(menu)\n",
    "    return print(f'The total grams of {macro} for {restaurant} is {total}')\n",
    "\n",
    "menu_fat = [\n",
    "    ['fat', 'McDonalds', McDonalds_Fat],\n",
    "    ['fat', 'Burger King', BurgerKing_Fat],\n",
    "    ['fat', 'Taco Bell', TacoBell_Fat],\n",
    "    ['fat', 'Wendys', Wendys_Fat],\n",
    "    ['fat', 'Panera Bread', PaneraBread_Fat]\n",
    "]\n",
    "\n",
    "menu_carbs = [\n",
    "    ['carbohydrates', 'McDonalds', McDonalds_Carbs],\n",
    "    ['carbohydrates', 'Burger King', BurgerKing_Carbs],\n",
    "    ['carbohydrates', 'Taco Bell', TacoBell_Carbs],\n",
    "    ['carbohydrates', 'Wendys', Wendys_Carbs],\n",
    "    ['carbohydrates', 'Panera Bread', PaneraBread_Carbs]\n",
    "]\n",
    "\n",
    "menu_pro = [\n",
    "    ['protein', 'McDonalds', McDonalds_Protein],\n",
    "    ['protein', 'Burger King', BurgerKing_Protein],\n",
    "    ['protein', 'Taco Bell', TacoBell_Protein],\n",
    "    ['protein', 'Wendys', Wendys_Protein],\n",
    "    ['protein', 'Panera Bread', PaneraBread_Protein]\n",
    "]\n",
    "\n",
    "\n",
    "for entry in menu_fat:\n",
    "    menu_macros(entry[0], entry[1], entry[2])\n",
    "\n",
    "for entry in menu_carbs:\n",
    "    menu_macros(entry[0], entry[1], entry[2])\n",
    "\n",
    "for entry in menu_pro:\n",
    "    menu_macros(entry[0], entry[1], entry[2])"
   ]
  },
  {
   "cell_type": "markdown",
   "id": "268e62bc",
   "metadata": {},
   "source": [
    "<h4> Creating dataframe for stacked bar graph </h4>\n",
    "Creating dataframe of each menu's macronutrients and then converting columns to numeric. "
   ]
  },
  {
   "cell_type": "code",
   "execution_count": 13,
   "id": "8eb2d5cc",
   "metadata": {},
   "outputs": [],
   "source": [
    "data = {'Restaurant': ['McDonalds',\n",
    "                        'Burger King',\n",
    "                        'Taco Bell',\n",
    "                        'Wendys',\n",
    "                        'Panera Bread'],\n",
    "         \n",
    "         'Fat': ['3683',\n",
    "                '2967',\n",
    "                '2266',\n",
    "                '1537',\n",
    "                '4182'],\n",
    "         'Carbohydrates': ['12310',\n",
    "                          '7904',\n",
    "                          '12147',\n",
    "                          '12331',\n",
    "                          '17998'],\n",
    "         'Protein': ['3468',\n",
    "                    '1940',\n",
    "                    '1764',\n",
    "                    '1431',\n",
    "                    '3656']}\n",
    "macros = pd.DataFrame(data)\n",
    "\n",
    "macros['Fat']=macros['Fat'].astype(float)\n",
    "macros['Carbohydrates']=macros['Carbohydrates'].astype(float)\n",
    "macros['Protein']=macros['Protein'].astype(float)"
   ]
  },
  {
   "cell_type": "markdown",
   "id": "dd49934a",
   "metadata": {},
   "source": [
    "<h4> Plotting macronutrient percentages </h4>\n",
    "Each bar is a breakdown of the percentage of fats, carbohydrates, and proteins found in each menu. For some, a healthy restaurant may not be defined by calories alone. For example, Wendy's had the second lowest average calorie count, but the highest percentage of carbohydrates. Burger King had the second to highest average calorie count, but happens to have the highest percentage of protein. Again, the perceived healthy restaurant is the median, proving to not necessarily be the healthiest choice."
   ]
  },
  {
   "cell_type": "code",
   "execution_count": 14,
   "id": "2f43149c",
   "metadata": {},
   "outputs": [
    {
     "data": {
      "image/png": "[encoded data removed]",
      "text/plain": [
       "<Figure size 864x432 with 1 Axes>"
      ]
     },
     "metadata": {
      "needs_background": "light"
     },
     "output_type": "display_data"
    }
   ],
   "source": [
    "r = [0,1,2,3,4]\n",
    "totals = [i+j+k for i,j,k in zip(macros['Fat'], \n",
    "                                 macros['Carbohydrates'], \n",
    "                                 macros['Protein'])]\n",
    "\n",
    "Fat = [i / j * 100 for i,j in zip(macros['Fat'], totals)]\n",
    "Carbohydrates = [i / j * 100 for i,j in zip(macros['Carbohydrates'], totals)]\n",
    "Protein = [i / j * 100 for i,j in zip(macros['Protein'], totals)]\n",
    "\n",
    "barWidth = 0.85\n",
    "names = ('McDonalds',\n",
    "         'Burger King',\n",
    "         'TacoBell',\n",
    "         'Wendys',\n",
    "         'Panera Bread')\n",
    "\n",
    "plt.figure(figsize = (12,6))\n",
    "plt.bar(r, Fat, color='teal', edgecolor='white', width=barWidth, label=\"Fat\")\n",
    "plt.bar(r, Carbohydrates, bottom=Fat, color='lightsteelblue', edgecolor='white', width=barWidth, label=\"Carbohydrates\")\n",
    "plt.bar(r, Protein, bottom=[i+j for i,j in zip(Fat, Carbohydrates)], color='royalblue', edgecolor='white', width=barWidth, label=\"Protein\")\n",
    "\n",
    "plt.xticks(r, names)\n",
    "plt.xlabel(\"Restaurant\", fontsize=15)\n",
    "plt.ylabel(\"Macro Percentage\", fontsize=15)\n",
    "plt.title(\"Breakdown of Macros in Each Menu\", fontsize=25)\n",
    "plt.legend(loc='upper left', bbox_to_anchor=(1,1), ncol=1)\n",
    "\n",
    "plt.show()"
   ]
  }
 ],
 "metadata": {
  "kernelspec": {
   "display_name": "Python 3 (ipykernel)",
   "language": "python",
   "name": "python3"
  },
  "language_info": {
   "codemirror_mode": {
    "name": "ipython",
    "version": 3
   },
   "file_extension": ".py",
   "mimetype": "text/x-python",
   "name": "python",
   "nbconvert_exporter": "python",
   "pygments_lexer": "ipython3",
   "version": "3.9.7"
  },
  "vscode": {
   "interpreter": {
    "hash": "87ae2aaed6170a3d35ef6f73590cb799329ab5be2267d61d0b68ab721475db9a"
   }
  }
 },
 "nbformat": 4,
 "nbformat_minor": 5
}
